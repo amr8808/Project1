{
 "cells": [
  {
   "cell_type": "code",
   "execution_count": 1,
   "id": "d77f908d",
   "metadata": {},
   "outputs": [],
   "source": [
    "import os\n",
    "import requests\n",
    "import pandas as pd\n",
    "from dotenv import load_dotenv\n",
    "import requests\n"
   ]
  },
  {
   "cell_type": "code",
   "execution_count": 2,
   "id": "179599fe",
   "metadata": {},
   "outputs": [
    {
     "data": {
      "text/plain": [
       "<Response [200]>"
      ]
     },
     "execution_count": 2,
     "metadata": {},
     "output_type": "execute_result"
    }
   ],
   "source": [
    "# connect API\n",
    "# API FOR SINGLE ASSET\n",
    "single_url = \"https://api.opensea.io/api/v1/asset/0x4f89Cd0CAE1e54D98db6a80150a824a533502EEa/7089/\"\n",
    "\n",
    "single_response = requests.request(\"GET\", single_url)\n",
    "\n",
    "single_response\n",
    "# API FOR ALL PEACEFUL GROUPIES\n",
    "# url = \"https://api.opensea.io/api/v1/assets\"\n",
    "# querystring = {\"asset_contract_address\":\"0x4f89Cd0CAE1e54D98db6a80150a824a533502EEa\",\"order_direction\":\"desc\",\"offset\":\"0\",\"limit\":\"20\"}\n",
    "# response = requests.request(\"GET\", url, params=querystring)\n",
    "# response"
   ]
  },
  {
   "cell_type": "code",
   "execution_count": 3,
   "id": "c3c62c65",
   "metadata": {},
   "outputs": [
    {
     "data": {
      "text/plain": [
       "{'id': 52099605,\n",
       " 'token_id': '7089',\n",
       " 'num_sales': 3,\n",
       " 'background_color': None,\n",
       " 'image_url': 'https://lh3.googleusercontent.com/UWJY6-dROlTuCkGpuYkGBFXyRdak7iFbMb5evznt30_j3ViJh4RPm3Jma-899YR7TG2B2rFHySio2JugqmiWPpybHFgEehltgMz8',\n",
       " 'image_preview_url': 'https://lh3.googleusercontent.com/UWJY6-dROlTuCkGpuYkGBFXyRdak7iFbMb5evznt30_j3ViJh4RPm3Jma-899YR7TG2B2rFHySio2JugqmiWPpybHFgEehltgMz8=s250',\n",
       " 'image_thumbnail_url': 'https://lh3.googleusercontent.com/UWJY6-dROlTuCkGpuYkGBFXyRdak7iFbMb5evznt30_j3ViJh4RPm3Jma-899YR7TG2B2rFHySio2JugqmiWPpybHFgEehltgMz8=s128',\n",
       " 'image_original_url': 'https://gateway.pinata.cloud/ipfs/QmT7c1BkQ8dQGogpJtYAM84Y575JFMerBpoGnzfpmPbxhu',\n",
       " 'animation_url': None,\n",
       " 'animation_original_url': None,\n",
       " 'name': 'Groupie #7089',\n",
       " 'description': 'A peaceful creature that will follow you on your adventures through this digital psychedelic experience!',\n",
       " 'external_link': None,\n",
       " 'asset_contract': {'address': '0x4f89cd0cae1e54d98db6a80150a824a533502eea',\n",
       "  'asset_contract_type': 'non-fungible',\n",
       "  'created_date': '2021-09-13T15:00:10.154395',\n",
       "  'name': 'Groupies',\n",
       "  'nft_version': '3.0',\n",
       "  'opensea_version': None,\n",
       "  'owner': 78696265,\n",
       "  'schema_name': 'ERC721',\n",
       "  'symbol': 'GROUPIE',\n",
       "  'total_supply': '0',\n",
       "  'description': 'PEACEFUL GROUPIES is a collection of 10000 unique and crazy characters. These peaceful creatures will follow you on your adventures through this digital psychedelic experience called the PEACEVOID.',\n",
       "  'external_link': 'http://peacevoid.world',\n",
       "  'image_url': 'https://lh3.googleusercontent.com/cG9j3L8r61_Y5VKNUE3pfHnWPWPNt1ld8Zmyyslx6VV_54-ffsRAuYCg838IhOuek9cL5bHahpgj10ugtKkomDqFOuBAhcIxemow9w=s120',\n",
       "  'default_to_fiat': False,\n",
       "  'dev_buyer_fee_basis_points': 0,\n",
       "  'dev_seller_fee_basis_points': 250,\n",
       "  'only_proxied_transfers': False,\n",
       "  'opensea_buyer_fee_basis_points': 0,\n",
       "  'opensea_seller_fee_basis_points': 250,\n",
       "  'buyer_fee_basis_points': 0,\n",
       "  'seller_fee_basis_points': 500,\n",
       "  'payout_address': '0xa4d0add0058d26916b6e449f9375e9af8f6c1eb4'},\n",
       " 'permalink': 'https://opensea.io/assets/0x4f89cd0cae1e54d98db6a80150a824a533502eea/7089',\n",
       " 'collection': {'payment_tokens': [{'id': 13689077,\n",
       "    'symbol': 'ETH',\n",
       "    'address': '0x0000000000000000000000000000000000000000',\n",
       "    'image_url': 'https://storage.opensea.io/files/6f8e2979d428180222796ff4a33ab929.svg',\n",
       "    'name': 'Ether',\n",
       "    'decimals': 18,\n",
       "    'eth_price': 1.0,\n",
       "    'usd_price': 3507.63},\n",
       "   {'id': 4645681,\n",
       "    'symbol': 'WETH',\n",
       "    'address': '0xc02aaa39b223fe8d0a0e5c4f27ead9083c756cc2',\n",
       "    'image_url': 'https://storage.opensea.io/files/accae6b6fb3888cbff27a013729c22dc.svg',\n",
       "    'name': 'Wrapped Ether',\n",
       "    'decimals': 18,\n",
       "    'eth_price': 1.0,\n",
       "    'usd_price': 3507.63}],\n",
       "  'primary_asset_contracts': [{'address': '0x4f89cd0cae1e54d98db6a80150a824a533502eea',\n",
       "    'asset_contract_type': 'non-fungible',\n",
       "    'created_date': '2021-09-13T15:00:10.154395',\n",
       "    'name': 'Groupies',\n",
       "    'nft_version': '3.0',\n",
       "    'opensea_version': None,\n",
       "    'owner': 78696265,\n",
       "    'schema_name': 'ERC721',\n",
       "    'symbol': 'GROUPIE',\n",
       "    'total_supply': '0',\n",
       "    'description': 'PEACEFUL GROUPIES is a collection of 10000 unique and crazy characters. These peaceful creatures will follow you on your adventures through this digital psychedelic experience called the PEACEVOID.',\n",
       "    'external_link': 'http://peacevoid.world',\n",
       "    'image_url': 'https://lh3.googleusercontent.com/cG9j3L8r61_Y5VKNUE3pfHnWPWPNt1ld8Zmyyslx6VV_54-ffsRAuYCg838IhOuek9cL5bHahpgj10ugtKkomDqFOuBAhcIxemow9w=s120',\n",
       "    'default_to_fiat': False,\n",
       "    'dev_buyer_fee_basis_points': 0,\n",
       "    'dev_seller_fee_basis_points': 250,\n",
       "    'only_proxied_transfers': False,\n",
       "    'opensea_buyer_fee_basis_points': 0,\n",
       "    'opensea_seller_fee_basis_points': 250,\n",
       "    'buyer_fee_basis_points': 0,\n",
       "    'seller_fee_basis_points': 500,\n",
       "    'payout_address': '0xa4d0add0058d26916b6e449f9375e9af8f6c1eb4'}],\n",
       "  'traits': {},\n",
       "  'stats': {'one_day_volume': 123.2265,\n",
       "   'one_day_change': -0.5791829846175282,\n",
       "   'one_day_sales': 86.0,\n",
       "   'one_day_average_price': 1.4328662790697675,\n",
       "   'seven_day_volume': 2751.99033768553,\n",
       "   'seven_day_change': -0.09628849792714056,\n",
       "   'seven_day_sales': 1845.0,\n",
       "   'seven_day_average_price': 1.491593678962347,\n",
       "   'thirty_day_volume': 8512.47881192522,\n",
       "   'thirty_day_change': 0.0,\n",
       "   'thirty_day_sales': 15511.0,\n",
       "   'thirty_day_average_price': 0.5488027085246097,\n",
       "   'total_volume': 8512.4788119252,\n",
       "   'total_sales': 15511.0,\n",
       "   'total_supply': 10000.0,\n",
       "   'count': 10000.0,\n",
       "   'num_owners': 3670,\n",
       "   'average_price': 0.5488027085246084,\n",
       "   'num_reports': 19,\n",
       "   'market_cap': 14915.936789623469,\n",
       "   'floor_price': 1.58},\n",
       "  'banner_image_url': 'https://lh3.googleusercontent.com/fT_1NepzsjKK72X2JDwBsRABPKWqPaPx8iOjuzvh5YHXTWM0XY8rykWAuFhwiagoD2uz9LN2N7qzXH_q3eRWeQP0dk6pyd1Yo3RaqfI=s2500',\n",
       "  'chat_url': None,\n",
       "  'created_date': '2021-09-13T15:43:39.931588',\n",
       "  'default_to_fiat': False,\n",
       "  'description': 'PEACEFUL GROUPIES is a collection of 10000 unique and crazy characters. These peaceful creatures will follow you on your adventures through this digital psychedelic experience called the PEACEVOID.',\n",
       "  'dev_buyer_fee_basis_points': '0',\n",
       "  'dev_seller_fee_basis_points': '250',\n",
       "  'discord_url': 'https://discord.gg/sXpPCbHnTW',\n",
       "  'display_data': {'card_display_style': 'padded'},\n",
       "  'external_url': 'http://peacevoid.world',\n",
       "  'featured': False,\n",
       "  'featured_image_url': 'https://lh3.googleusercontent.com/fT_1NepzsjKK72X2JDwBsRABPKWqPaPx8iOjuzvh5YHXTWM0XY8rykWAuFhwiagoD2uz9LN2N7qzXH_q3eRWeQP0dk6pyd1Yo3RaqfI=s300',\n",
       "  'hidden': False,\n",
       "  'safelist_request_status': 'verified',\n",
       "  'image_url': 'https://lh3.googleusercontent.com/cG9j3L8r61_Y5VKNUE3pfHnWPWPNt1ld8Zmyyslx6VV_54-ffsRAuYCg838IhOuek9cL5bHahpgj10ugtKkomDqFOuBAhcIxemow9w=s120',\n",
       "  'is_subject_to_whitelist': False,\n",
       "  'large_image_url': 'https://lh3.googleusercontent.com/fT_1NepzsjKK72X2JDwBsRABPKWqPaPx8iOjuzvh5YHXTWM0XY8rykWAuFhwiagoD2uz9LN2N7qzXH_q3eRWeQP0dk6pyd1Yo3RaqfI=s300',\n",
       "  'medium_username': 'peacevoid',\n",
       "  'name': 'PEACEFUL GROUPIES',\n",
       "  'only_proxied_transfers': False,\n",
       "  'opensea_buyer_fee_basis_points': '0',\n",
       "  'opensea_seller_fee_basis_points': '250',\n",
       "  'payout_address': '0xa4d0add0058d26916b6e449f9375e9af8f6c1eb4',\n",
       "  'require_email': False,\n",
       "  'short_description': None,\n",
       "  'slug': 'peaceful-groupies',\n",
       "  'telegram_url': None,\n",
       "  'twitter_username': 'peacevoid_world',\n",
       "  'instagram_username': 'peacevoid',\n",
       "  'wiki_url': None},\n",
       " 'decimals': 0,\n",
       " 'token_metadata': 'https://gateway.pinata.cloud/ipfs/QmUZwYBbqRQP9r9MshwaMpoJRHEjK2o9a7iEtCtwdaTJNd/7089',\n",
       " 'owner': {'user': {'username': 'StagHunter'},\n",
       "  'profile_img_url': 'https://storage.googleapis.com/opensea-static/opensea-profile/25.png',\n",
       "  'address': '0xdf9092178af2cd514f587fed6f32d12fe5bcbede',\n",
       "  'config': ''},\n",
       " 'sell_orders': None,\n",
       " 'creator': {'user': {'username': 'PEACEVOID_DEPLOYER'},\n",
       "  'profile_img_url': 'https://storage.googleapis.com/opensea-static/opensea-profile/2.png',\n",
       "  'address': '0x98f42d7a7f1fbb124adb4344298f3db5413f5f8f',\n",
       "  'config': ''},\n",
       " 'traits': [{'trait_type': 'Strain',\n",
       "   'value': 'Groupie',\n",
       "   'display_type': None,\n",
       "   'max_value': None,\n",
       "   'trait_count': 9989,\n",
       "   'order': None},\n",
       "  {'trait_type': 'Head Space',\n",
       "   'value': 'Grooving',\n",
       "   'display_type': None,\n",
       "   'max_value': None,\n",
       "   'trait_count': 7182,\n",
       "   'order': None},\n",
       "  {'trait_type': 'Eyes',\n",
       "   'value': 'Billiard',\n",
       "   'display_type': None,\n",
       "   'max_value': None,\n",
       "   'trait_count': 521,\n",
       "   'order': None},\n",
       "  {'trait_type': 'Skin',\n",
       "   'value': 'Starish',\n",
       "   'display_type': None,\n",
       "   'max_value': None,\n",
       "   'trait_count': 831,\n",
       "   'order': None},\n",
       "  {'trait_type': 'Background',\n",
       "   'value': 'Yellow Sunlight',\n",
       "   'display_type': None,\n",
       "   'max_value': None,\n",
       "   'trait_count': 710,\n",
       "   'order': None},\n",
       "  {'trait_type': 'Chain',\n",
       "   'value': 'Silver Fleur',\n",
       "   'display_type': None,\n",
       "   'max_value': None,\n",
       "   'trait_count': 399,\n",
       "   'order': None},\n",
       "  {'trait_type': 'Mouth',\n",
       "   'value': 'Vamp',\n",
       "   'display_type': None,\n",
       "   'max_value': None,\n",
       "   'trait_count': 388,\n",
       "   'order': None},\n",
       "  {'trait_type': 'Clothes',\n",
       "   'value': 'Sweater Patched',\n",
       "   'display_type': None,\n",
       "   'max_value': None,\n",
       "   'trait_count': 529,\n",
       "   'order': None},\n",
       "  {'trait_type': 'Hat',\n",
       "   'value': 'Joker Purple',\n",
       "   'display_type': None,\n",
       "   'max_value': None,\n",
       "   'trait_count': 282,\n",
       "   'order': None}],\n",
       " 'last_sale': {'asset': {'token_id': '7089', 'decimals': 0},\n",
       "  'asset_bundle': None,\n",
       "  'event_type': 'successful',\n",
       "  'event_timestamp': '2021-10-06T14:22:13',\n",
       "  'auction_type': None,\n",
       "  'total_price': '1069000000000000000',\n",
       "  'payment_token': {'id': 1,\n",
       "   'symbol': 'ETH',\n",
       "   'address': '0x0000000000000000000000000000000000000000',\n",
       "   'image_url': 'https://storage.opensea.io/files/6f8e2979d428180222796ff4a33ab929.svg',\n",
       "   'name': 'Ether',\n",
       "   'decimals': 18,\n",
       "   'eth_price': '1.000000000000000',\n",
       "   'usd_price': '3516.420000000000073000'},\n",
       "  'transaction': {'block_hash': '0x8dc33361cb245af4833c488921b2f38714b794dc75f0898ec0036c902961b22b',\n",
       "   'block_number': '13365918',\n",
       "   'from_account': {'user': {'username': 'StagHunter'},\n",
       "    'profile_img_url': 'https://storage.googleapis.com/opensea-static/opensea-profile/25.png',\n",
       "    'address': '0xdf9092178af2cd514f587fed6f32d12fe5bcbede',\n",
       "    'config': ''},\n",
       "   'id': 176951055,\n",
       "   'timestamp': '2021-10-06T14:22:13',\n",
       "   'to_account': {'user': {'username': 'OpenSea-Orders'},\n",
       "    'profile_img_url': 'https://storage.googleapis.com/opensea-static/opensea-profile/22.png',\n",
       "    'address': '0x7be8076f4ea4a4ad08075c2508e481d6c946d12b',\n",
       "    'config': 'verified'},\n",
       "   'transaction_hash': '0x3f801e60cea46f8e80369bcacb5d53cd9736c83658722a2d81da2117c07f1d8c',\n",
       "   'transaction_index': '193'},\n",
       "  'created_date': '2021-10-06T14:22:43.888931',\n",
       "  'quantity': '1'},\n",
       " 'top_bid': None,\n",
       " 'listing_date': None,\n",
       " 'is_presale': False,\n",
       " 'transfer_fee_payment_token': None,\n",
       " 'transfer_fee': None,\n",
       " 'related_assets': [],\n",
       " 'orders': [{'created_date': '2021-10-11T22:20:23.581163',\n",
       "   'closing_date': '2021-10-12T02:20:21',\n",
       "   'closing_extendable': False,\n",
       "   'expiration_time': 1634005221,\n",
       "   'listing_time': 1633990721,\n",
       "   'order_hash': '0x3dea728b43c0514b1bc9b2759eaee6839415462d4f5bc051714c76b6126ac4a6',\n",
       "   'metadata': {'asset': {'id': '7089',\n",
       "     'address': '0x4f89cd0cae1e54d98db6a80150a824a533502eea'},\n",
       "    'schema': 'ERC721'},\n",
       "   'exchange': '0x7be8076f4ea4a4ad08075c2508e481d6c946d12b',\n",
       "   'maker': {'user': {'username': 'DinoNugget'},\n",
       "    'profile_img_url': 'https://storage.googleapis.com/opensea-static/opensea-profile/29.png',\n",
       "    'address': '0xaf9b6e7619ca6d75a22e7587a56df9848b038cb9',\n",
       "    'config': ''},\n",
       "   'taker': {'user': {'username': 'NullAddress'},\n",
       "    'profile_img_url': 'https://storage.googleapis.com/opensea-static/opensea-profile/1.png',\n",
       "    'address': '0x0000000000000000000000000000000000000000',\n",
       "    'config': ''},\n",
       "   'current_price': '900000000000000000.0000000000',\n",
       "   'current_bounty': '9000000000000000',\n",
       "   'bounty_multiple': '0.01',\n",
       "   'maker_relayer_fee': '0',\n",
       "   'taker_relayer_fee': '500',\n",
       "   'maker_protocol_fee': '0',\n",
       "   'taker_protocol_fee': '0',\n",
       "   'maker_referrer_fee': '0',\n",
       "   'fee_recipient': {'user': {'username': 'OS-Wallet'},\n",
       "    'profile_img_url': 'https://storage.googleapis.com/opensea-static/opensea-profile/28.png',\n",
       "    'address': '0x5b3256965e7c3cf26e11fcaf296dfc8807c01073',\n",
       "    'config': 'verified'},\n",
       "   'fee_method': 1,\n",
       "   'side': 0,\n",
       "   'sale_kind': 0,\n",
       "   'target': '0x4f89cd0cae1e54d98db6a80150a824a533502eea',\n",
       "   'how_to_call': 0,\n",
       "   'calldata': '0x23b872dd0000000000000000000000000000000000000000000000000000000000000000000000000000000000000000af9b6e7619ca6d75a22e7587a56df9848b038cb90000000000000000000000000000000000000000000000000000000000001bb1',\n",
       "   'replacement_pattern': '0x00000000ffffffffffffffffffffffffffffffffffffffffffffffffffffffffffffffff00000000000000000000000000000000000000000000000000000000000000000000000000000000000000000000000000000000000000000000000000000000',\n",
       "   'static_target': '0x0000000000000000000000000000000000000000',\n",
       "   'static_extradata': '0x',\n",
       "   'payment_token': '0xc02aaa39b223fe8d0a0e5c4f27ead9083c756cc2',\n",
       "   'payment_token_contract': {'id': 2,\n",
       "    'symbol': 'WETH',\n",
       "    'address': '0xc02aaa39b223fe8d0a0e5c4f27ead9083c756cc2',\n",
       "    'image_url': 'https://storage.opensea.io/files/accae6b6fb3888cbff27a013729c22dc.svg',\n",
       "    'name': 'Wrapped Ether',\n",
       "    'decimals': 18,\n",
       "    'eth_price': '1.000000000000000',\n",
       "    'usd_price': '3509.000000000000000000'},\n",
       "   'base_price': '900000000000000000',\n",
       "   'extra': '0',\n",
       "   'quantity': '1',\n",
       "   'salt': '18487692313896682919389938345532688299513828920165540782084287513835827854189',\n",
       "   'v': 28,\n",
       "   'r': '0xf1f14dadf5e43c6f25d19364b5ac8f1fbd26bd164c980b7a2f1b5c2443140b78',\n",
       "   's': '0x5f7a43229ac23e200d6939873502dd68ecfde79da8c32ac4a495f546261d3ab1',\n",
       "   'approved_on_chain': False,\n",
       "   'cancelled': False,\n",
       "   'finalized': False,\n",
       "   'marked_invalid': False,\n",
       "   'prefixed_hash': '0xab163fe3a04232bfbf3dcdb0157562fc8752b6fdb1a5d9954f05898fb21e2869'},\n",
       "  {'created_date': '2021-10-11T21:26:13.124608',\n",
       "   'closing_date': '2021-10-13T21:26:12',\n",
       "   'closing_extendable': False,\n",
       "   'expiration_time': 1634160372,\n",
       "   'listing_time': 1633987472,\n",
       "   'order_hash': '0x44962416d59b871ec7844edbcde6da6731b0060c93bc8b642749ac72316f4fd0',\n",
       "   'metadata': {'asset': {'id': '7089',\n",
       "     'address': '0x4f89cd0cae1e54d98db6a80150a824a533502eea'},\n",
       "    'schema': 'ERC721'},\n",
       "   'exchange': '0x7be8076f4ea4a4ad08075c2508e481d6c946d12b',\n",
       "   'maker': {'user': {'username': 'Gold-Digger'},\n",
       "    'profile_img_url': 'https://storage.googleapis.com/opensea-static/opensea-profile/11.png',\n",
       "    'address': '0xdf136a355c0d84ca2cc88021646c88af55dccd64',\n",
       "    'config': ''},\n",
       "   'taker': {'user': {'username': 'NullAddress'},\n",
       "    'profile_img_url': 'https://storage.googleapis.com/opensea-static/opensea-profile/1.png',\n",
       "    'address': '0x0000000000000000000000000000000000000000',\n",
       "    'config': ''},\n",
       "   'current_price': '1035200000000000000.000000000',\n",
       "   'current_bounty': '10352000000000000',\n",
       "   'bounty_multiple': '0.01',\n",
       "   'maker_relayer_fee': '0',\n",
       "   'taker_relayer_fee': '500',\n",
       "   'maker_protocol_fee': '0',\n",
       "   'taker_protocol_fee': '0',\n",
       "   'maker_referrer_fee': '0',\n",
       "   'fee_recipient': {'user': {'username': 'OS-Wallet'},\n",
       "    'profile_img_url': 'https://storage.googleapis.com/opensea-static/opensea-profile/28.png',\n",
       "    'address': '0x5b3256965e7c3cf26e11fcaf296dfc8807c01073',\n",
       "    'config': 'verified'},\n",
       "   'fee_method': 1,\n",
       "   'side': 0,\n",
       "   'sale_kind': 0,\n",
       "   'target': '0x4f89cd0cae1e54d98db6a80150a824a533502eea',\n",
       "   'how_to_call': 0,\n",
       "   'calldata': '0x23b872dd0000000000000000000000000000000000000000000000000000000000000000000000000000000000000000df136a355c0d84ca2cc88021646c88af55dccd640000000000000000000000000000000000000000000000000000000000001bb1',\n",
       "   'replacement_pattern': '0x00000000ffffffffffffffffffffffffffffffffffffffffffffffffffffffffffffffff00000000000000000000000000000000000000000000000000000000000000000000000000000000000000000000000000000000000000000000000000000000',\n",
       "   'static_target': '0x0000000000000000000000000000000000000000',\n",
       "   'static_extradata': '0x',\n",
       "   'payment_token': '0xc02aaa39b223fe8d0a0e5c4f27ead9083c756cc2',\n",
       "   'payment_token_contract': {'id': 2,\n",
       "    'symbol': 'WETH',\n",
       "    'address': '0xc02aaa39b223fe8d0a0e5c4f27ead9083c756cc2',\n",
       "    'image_url': 'https://storage.opensea.io/files/accae6b6fb3888cbff27a013729c22dc.svg',\n",
       "    'name': 'Wrapped Ether',\n",
       "    'decimals': 18,\n",
       "    'eth_price': '1.000000000000000',\n",
       "    'usd_price': '3509.000000000000000000'},\n",
       "   'base_price': '1035200000000000000',\n",
       "   'extra': '0',\n",
       "   'quantity': '1',\n",
       "   'salt': '79506338871860119378155229189405921689667617210545926676175137191420964077103',\n",
       "   'v': 27,\n",
       "   'r': '0xfc23abe0c52682bec564bfb4cdf9117763cb96227158fd25daf9cf73697166fa',\n",
       "   's': '0x236ba8b3e67ac180369c379395fd318db57cd2f5c2216aa3242a8dda549f4be1',\n",
       "   'approved_on_chain': False,\n",
       "   'cancelled': False,\n",
       "   'finalized': False,\n",
       "   'marked_invalid': False,\n",
       "   'prefixed_hash': '0x89fb6320d8c1d60b7aae0967f1fa34976243578bf3488e9e76a992055472792b'},\n",
       "  {'created_date': '2021-10-11T20:53:32.506010',\n",
       "   'closing_date': '2021-10-12T02:43:32',\n",
       "   'closing_extendable': False,\n",
       "   'expiration_time': 1634006612,\n",
       "   'listing_time': 1633985509,\n",
       "   'order_hash': '0x215c424d83f2965ca4abc48265bef319305b01116e2ca2e0d2dbc3c9651c780c',\n",
       "   'metadata': {'asset': {'id': '7089',\n",
       "     'address': '0x4f89cd0cae1e54d98db6a80150a824a533502eea'},\n",
       "    'schema': 'ERC721'},\n",
       "   'exchange': '0x7be8076f4ea4a4ad08075c2508e481d6c946d12b',\n",
       "   'maker': {'user': {'username': 'quidproquotr'},\n",
       "    'profile_img_url': 'https://storage.googleapis.com/opensea-static/opensea-profile/33.png',\n",
       "    'address': '0x80d1e825d873220f59f37963b37819bc47c0305f',\n",
       "    'config': ''},\n",
       "   'taker': {'user': {'username': 'NullAddress'},\n",
       "    'profile_img_url': 'https://storage.googleapis.com/opensea-static/opensea-profile/1.png',\n",
       "    'address': '0x0000000000000000000000000000000000000000',\n",
       "    'config': ''},\n",
       "   'current_price': '1000000000000000000.000000000',\n",
       "   'current_bounty': '10000000000000000',\n",
       "   'bounty_multiple': '0.01',\n",
       "   'maker_relayer_fee': '0',\n",
       "   'taker_relayer_fee': '500',\n",
       "   'maker_protocol_fee': '0',\n",
       "   'taker_protocol_fee': '0',\n",
       "   'maker_referrer_fee': '0',\n",
       "   'fee_recipient': {'user': {'username': 'OS-Wallet'},\n",
       "    'profile_img_url': 'https://storage.googleapis.com/opensea-static/opensea-profile/28.png',\n",
       "    'address': '0x5b3256965e7c3cf26e11fcaf296dfc8807c01073',\n",
       "    'config': 'verified'},\n",
       "   'fee_method': 1,\n",
       "   'side': 0,\n",
       "   'sale_kind': 0,\n",
       "   'target': '0x4f89cd0cae1e54d98db6a80150a824a533502eea',\n",
       "   'how_to_call': 0,\n",
       "   'calldata': '0x23b872dd000000000000000000000000000000000000000000000000000000000000000000000000000000000000000080d1e825d873220f59f37963b37819bc47c0305f0000000000000000000000000000000000000000000000000000000000001bb1',\n",
       "   'replacement_pattern': '0x00000000ffffffffffffffffffffffffffffffffffffffffffffffffffffffffffffffff00000000000000000000000000000000000000000000000000000000000000000000000000000000000000000000000000000000000000000000000000000000',\n",
       "   'static_target': '0x0000000000000000000000000000000000000000',\n",
       "   'static_extradata': '0x',\n",
       "   'payment_token': '0xc02aaa39b223fe8d0a0e5c4f27ead9083c756cc2',\n",
       "   'payment_token_contract': {'id': 2,\n",
       "    'symbol': 'WETH',\n",
       "    'address': '0xc02aaa39b223fe8d0a0e5c4f27ead9083c756cc2',\n",
       "    'image_url': 'https://storage.opensea.io/files/accae6b6fb3888cbff27a013729c22dc.svg',\n",
       "    'name': 'Wrapped Ether',\n",
       "    'decimals': 18,\n",
       "    'eth_price': '1.000000000000000',\n",
       "    'usd_price': '3509.000000000000000000'},\n",
       "   'base_price': '1000000000000000000',\n",
       "   'extra': '0',\n",
       "   'quantity': '1',\n",
       "   'salt': '22569355890938728490407693742839835070155875680529053430741734279373001060110',\n",
       "   'v': 27,\n",
       "   'r': '0x1f7eda80fd35e8797f6c70df2673db93095fce71f84d1129b335ef039cade7bc',\n",
       "   's': '0x4feaa97c17be23c6764c10e50dca7879a3ca5b965f642b6ec4fa61883345f3df',\n",
       "   'approved_on_chain': False,\n",
       "   'cancelled': False,\n",
       "   'finalized': False,\n",
       "   'marked_invalid': False,\n",
       "   'prefixed_hash': '0x651858f7f7c6fff66abc67563860164dfc0878c499b2abed1d4d689ff91e467d'},\n",
       "  {'created_date': '2021-10-11T20:32:04.693765',\n",
       "   'closing_date': '2021-10-12T00:32:02',\n",
       "   'closing_extendable': False,\n",
       "   'expiration_time': 1633998722,\n",
       "   'listing_time': 1633984222,\n",
       "   'order_hash': '0x6ead3bf05d51b7df3d93c1d4ed9546a2863faed9058ad801313f9f0f8125b5ca',\n",
       "   'metadata': {'asset': {'id': '7089',\n",
       "     'address': '0x4f89cd0cae1e54d98db6a80150a824a533502eea'},\n",
       "    'schema': 'ERC721',\n",
       "    'referrerAddress': ''},\n",
       "   'exchange': '0x7be8076f4ea4a4ad08075c2508e481d6c946d12b',\n",
       "   'maker': {'user': None,\n",
       "    'profile_img_url': 'https://storage.googleapis.com/opensea-static/opensea-profile/2.png',\n",
       "    'address': '0x0edc7dd6182f071b5936b3973f0e35e4027b925d',\n",
       "    'config': ''},\n",
       "   'taker': {'user': {'username': 'NullAddress'},\n",
       "    'profile_img_url': 'https://storage.googleapis.com/opensea-static/opensea-profile/1.png',\n",
       "    'address': '0x0000000000000000000000000000000000000000',\n",
       "    'config': ''},\n",
       "   'current_price': '810900000000000000.0000000000',\n",
       "   'current_bounty': '8109000000000000',\n",
       "   'bounty_multiple': '0.01',\n",
       "   'maker_relayer_fee': '0',\n",
       "   'taker_relayer_fee': '500',\n",
       "   'maker_protocol_fee': '0',\n",
       "   'taker_protocol_fee': '0',\n",
       "   'maker_referrer_fee': '0',\n",
       "   'fee_recipient': {'user': {'username': 'OS-Wallet'},\n",
       "    'profile_img_url': 'https://storage.googleapis.com/opensea-static/opensea-profile/28.png',\n",
       "    'address': '0x5b3256965e7c3cf26e11fcaf296dfc8807c01073',\n",
       "    'config': 'verified'},\n",
       "   'fee_method': 1,\n",
       "   'side': 0,\n",
       "   'sale_kind': 0,\n",
       "   'target': '0x4f89cd0cae1e54d98db6a80150a824a533502eea',\n",
       "   'how_to_call': 0,\n",
       "   'calldata': '0x23b872dd00000000000000000000000000000000000000000000000000000000000000000000000000000000000000000edc7dd6182f071b5936b3973f0e35e4027b925d0000000000000000000000000000000000000000000000000000000000001bb1',\n",
       "   'replacement_pattern': '0x00000000ffffffffffffffffffffffffffffffffffffffffffffffffffffffffffffffff00000000000000000000000000000000000000000000000000000000000000000000000000000000000000000000000000000000000000000000000000000000',\n",
       "   'static_target': '0x0000000000000000000000000000000000000000',\n",
       "   'static_extradata': '0x',\n",
       "   'payment_token': '0xc02aaa39b223fe8d0a0e5c4f27ead9083c756cc2',\n",
       "   'payment_token_contract': {'id': 2,\n",
       "    'symbol': 'WETH',\n",
       "    'address': '0xc02aaa39b223fe8d0a0e5c4f27ead9083c756cc2',\n",
       "    'image_url': 'https://storage.opensea.io/files/accae6b6fb3888cbff27a013729c22dc.svg',\n",
       "    'name': 'Wrapped Ether',\n",
       "    'decimals': 18,\n",
       "    'eth_price': '1.000000000000000',\n",
       "    'usd_price': '3509.000000000000000000'},\n",
       "   'base_price': '810900000000000000',\n",
       "   'extra': '0',\n",
       "   'quantity': '1',\n",
       "   'salt': '2535258510818084963973836928038877062342836400504316650927829262219287537986',\n",
       "   'v': 28,\n",
       "   'r': '0xb4bbe31c61dff1a0d0da421fa722c7c0a034c4bc3192bf085d05396302d3390b',\n",
       "   's': '0x25359e4ddcb3abaf24a46a77aaa4c14ac5e8a6b9bc4ea9c106fac7fbd9511d9b',\n",
       "   'approved_on_chain': False,\n",
       "   'cancelled': False,\n",
       "   'finalized': False,\n",
       "   'marked_invalid': False,\n",
       "   'prefixed_hash': '0x8649a41ffbc9a87f2f10f1c82d41fcee031f8de537c6aee08945c8c6a325be21'},\n",
       "  {'created_date': '2021-10-11T20:22:14.803587',\n",
       "   'closing_date': '2021-10-12T00:22:11',\n",
       "   'closing_extendable': False,\n",
       "   'expiration_time': 1633998131,\n",
       "   'listing_time': 1633983632,\n",
       "   'order_hash': '0xeafd1cda6b849eff0480820fe0085b2746952d35ee50c1c503551ddf8f3b03f4',\n",
       "   'metadata': {'asset': {'id': '7089',\n",
       "     'address': '0x4f89cd0cae1e54d98db6a80150a824a533502eea'},\n",
       "    'schema': 'ERC721',\n",
       "    'referrerAddress': ''},\n",
       "   'exchange': '0x7be8076f4ea4a4ad08075c2508e481d6c946d12b',\n",
       "   'maker': {'user': None,\n",
       "    'profile_img_url': 'https://storage.googleapis.com/opensea-static/opensea-profile/2.png',\n",
       "    'address': '0x0edc7dd6182f071b5936b3973f0e35e4027b925d',\n",
       "    'config': ''},\n",
       "   'taker': {'user': {'username': 'NullAddress'},\n",
       "    'profile_img_url': 'https://storage.googleapis.com/opensea-static/opensea-profile/1.png',\n",
       "    'address': '0x0000000000000000000000000000000000000000',\n",
       "    'config': ''},\n",
       "   'current_price': '813900000000000000.0000000000',\n",
       "   'current_bounty': '8139000000000000',\n",
       "   'bounty_multiple': '0.01',\n",
       "   'maker_relayer_fee': '0',\n",
       "   'taker_relayer_fee': '500',\n",
       "   'maker_protocol_fee': '0',\n",
       "   'taker_protocol_fee': '0',\n",
       "   'maker_referrer_fee': '0',\n",
       "   'fee_recipient': {'user': {'username': 'OS-Wallet'},\n",
       "    'profile_img_url': 'https://storage.googleapis.com/opensea-static/opensea-profile/28.png',\n",
       "    'address': '0x5b3256965e7c3cf26e11fcaf296dfc8807c01073',\n",
       "    'config': 'verified'},\n",
       "   'fee_method': 1,\n",
       "   'side': 0,\n",
       "   'sale_kind': 0,\n",
       "   'target': '0x4f89cd0cae1e54d98db6a80150a824a533502eea',\n",
       "   'how_to_call': 0,\n",
       "   'calldata': '0x23b872dd00000000000000000000000000000000000000000000000000000000000000000000000000000000000000000edc7dd6182f071b5936b3973f0e35e4027b925d0000000000000000000000000000000000000000000000000000000000001bb1',\n",
       "   'replacement_pattern': '0x00000000ffffffffffffffffffffffffffffffffffffffffffffffffffffffffffffffff00000000000000000000000000000000000000000000000000000000000000000000000000000000000000000000000000000000000000000000000000000000',\n",
       "   'static_target': '0x0000000000000000000000000000000000000000',\n",
       "   'static_extradata': '0x',\n",
       "   'payment_token': '0xc02aaa39b223fe8d0a0e5c4f27ead9083c756cc2',\n",
       "   'payment_token_contract': {'id': 2,\n",
       "    'symbol': 'WETH',\n",
       "    'address': '0xc02aaa39b223fe8d0a0e5c4f27ead9083c756cc2',\n",
       "    'image_url': 'https://storage.opensea.io/files/accae6b6fb3888cbff27a013729c22dc.svg',\n",
       "    'name': 'Wrapped Ether',\n",
       "    'decimals': 18,\n",
       "    'eth_price': '1.000000000000000',\n",
       "    'usd_price': '3509.000000000000000000'},\n",
       "   'base_price': '813900000000000000',\n",
       "   'extra': '0',\n",
       "   'quantity': '1',\n",
       "   'salt': '87174079792588145201645866408760594819876675864735326954266065068413040279394',\n",
       "   'v': 27,\n",
       "   'r': '0xe6812d8e0716bf107d369bd005968c7feb95f71969cb131e87ac7b39e0e70210',\n",
       "   's': '0x659373af5be1ccb77b16dfd3bc3768a43ef356f865b3971176c32fc4271224ce',\n",
       "   'approved_on_chain': False,\n",
       "   'cancelled': False,\n",
       "   'finalized': False,\n",
       "   'marked_invalid': False,\n",
       "   'prefixed_hash': '0x5835cca406cc3b10f5eda4dfdd475a8026d76ef111885519f3714a023cced487'}],\n",
       " 'auctions': [],\n",
       " 'supports_wyvern': True,\n",
       " 'top_ownerships': [{'owner': {'user': {'username': 'StagHunter'},\n",
       "    'profile_img_url': 'https://storage.googleapis.com/opensea-static/opensea-profile/25.png',\n",
       "    'address': '0xdf9092178af2cd514f587fed6f32d12fe5bcbede',\n",
       "    'config': ''},\n",
       "   'quantity': '1'}],\n",
       " 'ownership': None,\n",
       " 'highest_buyer_commitment': None}"
      ]
     },
     "execution_count": 3,
     "metadata": {},
     "output_type": "execute_result"
    }
   ],
   "source": [
    "single_data_json = requests.get(single_url).json()\n",
    "single_data_json\n",
    "\n",
    "# PULL ENTIRE COLLECTION INTO JSON\n",
    "# response_data_json = requests.get(url).json() #adds indentation to make it more readable\n",
    "# response_data_json"
   ]
  },
  {
   "cell_type": "code",
   "execution_count": 6,
   "id": "b533a449",
   "metadata": {},
   "outputs": [
    {
     "data": {
      "text/plain": [
       "'7089'"
      ]
     },
     "execution_count": 6,
     "metadata": {},
     "output_type": "execute_result"
    }
   ],
   "source": [
    "token_id = single_data_json['token_id']\n",
    "token_id"
   ]
  },
  {
   "cell_type": "code",
   "execution_count": 7,
   "id": "f9627bf0",
   "metadata": {},
   "outputs": [],
   "source": [
    "def token_id(token_id):\n",
    "    token_id = single_data_json['token_id']\n",
    "    return token_id"
   ]
  },
  {
   "cell_type": "code",
   "execution_count": 8,
   "id": "08589257",
   "metadata": {},
   "outputs": [
    {
     "data": {
      "text/plain": [
       "'Groupie #7089'"
      ]
     },
     "execution_count": 8,
     "metadata": {},
     "output_type": "execute_result"
    }
   ],
   "source": [
    "name = single_data_json['name']\n",
    "name"
   ]
  },
  {
   "cell_type": "code",
   "execution_count": 48,
   "id": "dd49f567",
   "metadata": {},
   "outputs": [
    {
     "data": {
      "text/plain": [
       "'A peaceful creature that will follow you on your adventures through this digital psychedelic experience!'"
      ]
     },
     "execution_count": 48,
     "metadata": {},
     "output_type": "execute_result"
    }
   ],
   "source": [
    "asset_des = single_data_json['description']\n",
    "asset_des"
   ]
  },
  {
   "cell_type": "code",
   "execution_count": 49,
   "id": "e7e35903",
   "metadata": {},
   "outputs": [
    {
     "data": {
      "text/plain": [
       "'PEACEFUL GROUPIES is a collection of 10000 unique and crazy characters. These peaceful creatures will follow you on your adventures through this digital psychedelic experience called the PEACEVOID.'"
      ]
     },
     "execution_count": 49,
     "metadata": {},
     "output_type": "execute_result"
    }
   ],
   "source": [
    "project_des = single_data_json['asset_contract']['description']\n",
    "project_des"
   ]
  },
  {
   "cell_type": "code",
   "execution_count": 50,
   "id": "c581c333",
   "metadata": {},
   "outputs": [
    {
     "data": {
      "text/plain": [
       "'https://lh3.googleusercontent.com/UWJY6-dROlTuCkGpuYkGBFXyRdak7iFbMb5evznt30_j3ViJh4RPm3Jma-899YR7TG2B2rFHySio2JugqmiWPpybHFgEehltgMz8=s128'"
      ]
     },
     "execution_count": 50,
     "metadata": {},
     "output_type": "execute_result"
    }
   ],
   "source": [
    "asset_image = single_data_json['image_thumbnail_url']\n",
    "asset_image"
   ]
  },
  {
   "cell_type": "code",
   "execution_count": 51,
   "id": "6179e65d",
   "metadata": {},
   "outputs": [],
   "source": [
    "collection_website = single_data_json['external_link']\n",
    "collection_website"
   ]
  },
  {
   "cell_type": "code",
   "execution_count": 52,
   "id": "d50f2b53",
   "metadata": {},
   "outputs": [
    {
     "data": {
      "text/plain": [
       "[{'id': 13689077,\n",
       "  'symbol': 'ETH',\n",
       "  'address': '0x0000000000000000000000000000000000000000',\n",
       "  'image_url': 'https://storage.opensea.io/files/6f8e2979d428180222796ff4a33ab929.svg',\n",
       "  'name': 'Ether',\n",
       "  'decimals': 18,\n",
       "  'eth_price': 1.0,\n",
       "  'usd_price': 3622.39},\n",
       " {'id': 4645681,\n",
       "  'symbol': 'WETH',\n",
       "  'address': '0xc02aaa39b223fe8d0a0e5c4f27ead9083c756cc2',\n",
       "  'image_url': 'https://storage.opensea.io/files/accae6b6fb3888cbff27a013729c22dc.svg',\n",
       "  'name': 'Wrapped Ether',\n",
       "  'decimals': 18,\n",
       "  'eth_price': 1.0,\n",
       "  'usd_price': 3622.39}]"
      ]
     },
     "execution_count": 52,
     "metadata": {},
     "output_type": "execute_result"
    }
   ],
   "source": [
    "currency_data = single_data_json['collection']['payment_tokens']\n",
    "currency_data"
   ]
  },
  {
   "cell_type": "code",
   "execution_count": 56,
   "id": "e7b21bb1",
   "metadata": {},
   "outputs": [
    {
     "data": {
      "text/plain": [
       "['ETH', 'WETH']"
      ]
     },
     "execution_count": 56,
     "metadata": {},
     "output_type": "execute_result"
    }
   ],
   "source": [
    "currencies = [x['symbol'] for x in base_currency]\n",
    "currencies"
   ]
  },
  {
   "cell_type": "code",
   "execution_count": 60,
   "id": "be3e52b1",
   "metadata": {},
   "outputs": [
    {
     "data": {
      "text/plain": [
       "1.418"
      ]
     },
     "execution_count": 60,
     "metadata": {},
     "output_type": "execute_result"
    }
   ],
   "source": [
    "floor_price = single_data_json['collection']['stats']['floor_price']\n",
    "floor_price"
   ]
  },
  {
   "cell_type": "code",
   "execution_count": 94,
   "id": "77661f39",
   "metadata": {},
   "outputs": [
    {
     "data": {
      "text/plain": [
       "10000"
      ]
     },
     "execution_count": 94,
     "metadata": {},
     "output_type": "execute_result"
    }
   ],
   "source": [
    "total_supply = single_data_json['collection']['stats']['total_supply']\n",
    "int(total_supply)"
   ]
  },
  {
   "cell_type": "code",
   "execution_count": 66,
   "id": "2104c9ab",
   "metadata": {},
   "outputs": [
    {
     "data": {
      "text/plain": [
       "dict_keys(['id', 'token_id', 'num_sales', 'background_color', 'image_url', 'image_preview_url', 'image_thumbnail_url', 'image_original_url', 'animation_url', 'animation_original_url', 'name', 'description', 'external_link', 'asset_contract', 'permalink', 'collection', 'decimals', 'token_metadata', 'owner', 'sell_orders', 'creator', 'traits', 'last_sale', 'top_bid', 'listing_date', 'is_presale', 'transfer_fee_payment_token', 'transfer_fee', 'related_assets', 'orders', 'auctions', 'supports_wyvern', 'top_ownerships', 'ownership', 'highest_buyer_commitment'])"
      ]
     },
     "execution_count": 66,
     "metadata": {},
     "output_type": "execute_result"
    }
   ],
   "source": [
    "single_data_json.keys()"
   ]
  },
  {
   "cell_type": "code",
   "execution_count": 79,
   "id": "d0098e6a",
   "metadata": {},
   "outputs": [
    {
     "data": {
      "text/plain": [
       "[]"
      ]
     },
     "execution_count": 79,
     "metadata": {},
     "output_type": "execute_result"
    }
   ],
   "source": [
    "# trait_types = [x['trait_type'] for x in traits]\n",
    "# trait_types"
   ]
  },
  {
   "cell_type": "code",
   "execution_count": 81,
   "id": "09994a81",
   "metadata": {},
   "outputs": [
    {
     "data": {
      "text/plain": [
       "'Strain'"
      ]
     },
     "execution_count": 81,
     "metadata": {},
     "output_type": "execute_result"
    }
   ],
   "source": [
    "single_data_json['traits'][0]['trait_type']"
   ]
  },
  {
   "cell_type": "code",
   "execution_count": 90,
   "id": "09a324e9",
   "metadata": {},
   "outputs": [
    {
     "data": {
      "text/plain": [
       "['Strain',\n",
       " 'Head Space',\n",
       " 'Eyes',\n",
       " 'Skin',\n",
       " 'Background',\n",
       " 'Chain',\n",
       " 'Mouth',\n",
       " 'Clothes',\n",
       " 'Hat']"
      ]
     },
     "execution_count": 90,
     "metadata": {},
     "output_type": "execute_result"
    }
   ],
   "source": [
    "traits_test = [x['trait_type'] for x in single_data_json['traits']]\n",
    "traits_test"
   ]
  },
  {
   "cell_type": "code",
   "execution_count": 88,
   "id": "2cffdee4",
   "metadata": {},
   "outputs": [
    {
     "data": {
      "text/plain": [
       "['Strain',\n",
       " 'Head Space',\n",
       " 'Eyes',\n",
       " 'Skin',\n",
       " 'Background',\n",
       " 'Chain',\n",
       " 'Mouth',\n",
       " 'Clothes',\n",
       " 'Hat']"
      ]
     },
     "execution_count": 88,
     "metadata": {},
     "output_type": "execute_result"
    }
   ],
   "source": [
    "traits = []\n",
    "for i in range(0,len(single_data_json['traits'])):\n",
    "    traits.append(single_data_json['traits'][i]['trait_type'])\n",
    "\n",
    "traits"
   ]
  },
  {
   "cell_type": "code",
   "execution_count": null,
   "id": "231f8fa6",
   "metadata": {},
   "outputs": [],
   "source": []
  }
 ],
 "metadata": {
  "kernelspec": {
   "display_name": "Python 3",
   "language": "python",
   "name": "python3"
  },
  "language_info": {
   "codemirror_mode": {
    "name": "ipython",
    "version": 3
   },
   "file_extension": ".py",
   "mimetype": "text/x-python",
   "name": "python",
   "nbconvert_exporter": "python",
   "pygments_lexer": "ipython3",
   "version": "3.7.10"
  }
 },
 "nbformat": 4,
 "nbformat_minor": 5
}
