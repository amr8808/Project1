{
 "cells": [
  {
   "cell_type": "code",
   "execution_count": null,
   "id": "01363880",
   "metadata": {},
   "outputs": [],
   "source": [
    "import os\n",
    "import requests\n",
    "import pandas as pd\n",
    "from dotenv import load_dotenv\n",
    "import requests\n"
   ]
  },
  {
   "cell_type": "code",
   "execution_count": null,
   "id": "179bb2d2",
   "metadata": {},
   "outputs": [],
   "source": [
    "# connect API\n",
    "# API FOR SINGLE ASSET\n",
    "single_url = \"https://api.opensea.io/api/v1/asset/0x4f89Cd0CAE1e54D98db6a80150a824a533502EEa/7089/\"\n",
    "\n",
    "single_response = requests.request(\"GET\", single_url)\n",
    "\n",
    "single_response\n",
    "# API FOR ALL PEACEFUL GROUPIES\n",
    "# url = \"https://api.opensea.io/api/v1/assets\"\n",
    "# querystring = {\"asset_contract_address\":\"0x4f89Cd0CAE1e54D98db6a80150a824a533502EEa\",\"order_direction\":\"desc\",\"offset\":\"0\",\"limit\":\"20\"}\n",
    "# response = requests.request(\"GET\", url, params=querystring)\n",
    "# response"
   ]
  },
  {
   "cell_type": "code",
   "execution_count": null,
   "id": "d3ff20cb",
   "metadata": {},
   "outputs": [],
   "source": [
    "single_data_json = requests.get(single_url).json()\n",
    "single_data_json\n",
    "\n",
    "# PULL ENTIRE COLLECTION INTO JSON\n",
    "# response_data_json = requests.get(url).json() #adds indentation to make it more readable\n",
    "# response_data_json"
   ]
  },
  {
   "cell_type": "code",
   "execution_count": null,
   "id": "7e21852e",
   "metadata": {},
   "outputs": [],
   "source": [
    "token_id = single_data_json['token_id']\n",
    "token_id"
   ]
  },
  {
   "cell_type": "code",
   "execution_count": null,
   "id": "8715333d",
   "metadata": {},
   "outputs": [],
   "source": [
    "def token_id(token_id):\n",
    "    token_id = single_data_json['token_id']\n",
    "    return token_id"
   ]
  },
  {
   "cell_type": "code",
   "execution_count": null,
   "id": "5aebed44",
   "metadata": {},
   "outputs": [],
   "source": [
    "name = single_data_json['name']\n",
    "name"
   ]
  },
  {
   "cell_type": "code",
   "execution_count": null,
   "id": "4472a24a",
   "metadata": {},
   "outputs": [],
   "source": [
    "asset_des = single_data_json['description']\n",
    "asset_des"
   ]
  },
  {
   "cell_type": "code",
   "execution_count": null,
   "id": "a37bf6f6",
   "metadata": {},
   "outputs": [],
   "source": [
    "project_des = single_data_json['asset_contract']['description']\n",
    "project_des"
   ]
  },
  {
   "cell_type": "code",
   "execution_count": null,
   "id": "fbed9bcb",
   "metadata": {},
   "outputs": [],
   "source": [
    "asset_image = single_data_json['image_thumbnail_url']\n",
    "asset_image"
   ]
  },
  {
   "cell_type": "code",
   "execution_count": null,
   "id": "04340c86",
   "metadata": {},
   "outputs": [],
   "source": [
    "collection_website = single_data_json['external_link']\n",
    "collection_website"
   ]
  },
  {
   "cell_type": "code",
   "execution_count": null,
   "id": "805ad364",
   "metadata": {},
   "outputs": [],
   "source": [
    "currency_data = single_data_json['collection']['payment_tokens']\n",
    "currency_data"
   ]
  },
  {
   "cell_type": "code",
   "execution_count": null,
   "id": "93ebc80d",
   "metadata": {},
   "outputs": [],
   "source": [
    "currencies = [x['symbol'] for x in base_currency]\n",
    "currencies"
   ]
  },
  {
   "cell_type": "code",
   "execution_count": null,
   "id": "72ed95b3",
   "metadata": {},
   "outputs": [],
   "source": [
    "floor_price = single_data_json['collection']['stats']['floor_price']\n",
    "floor_price"
   ]
  },
  {
   "cell_type": "code",
   "execution_count": null,
   "id": "78b3efae",
   "metadata": {},
   "outputs": [],
   "source": [
    "total_supply = single_data_json['collection']['stats']['total_supply']\n",
    "int(total_supply)"
   ]
  },
  {
   "cell_type": "code",
   "execution_count": null,
   "id": "36ca5b07",
   "metadata": {},
   "outputs": [],
   "source": [
    "single_data_json.keys()"
   ]
  },
  {
   "cell_type": "code",
   "execution_count": null,
   "id": "eb4c49ec",
   "metadata": {},
   "outputs": [],
   "source": [
    "# trait_types = [x['trait_type'] for x in traits]\n",
    "# trait_types"
   ]
  },
  {
   "cell_type": "code",
   "execution_count": null,
   "id": "2e7d757e",
   "metadata": {},
   "outputs": [],
   "source": [
    "single_data_json['traits'][0]['trait_type']"
   ]
  },
  {
   "cell_type": "code",
   "execution_count": null,
   "id": "c675ac32",
   "metadata": {},
   "outputs": [],
   "source": [
    "traits_test = [x['trait_type'] for x in single_data_json['traits']]\n",
    "traits_test"
   ]
  },
  {
   "cell_type": "code",
   "execution_count": null,
   "id": "e577eb4e",
   "metadata": {},
   "outputs": [],
   "source": [
    "traits = []\n",
    "for i in range(0,len(single_data_json['traits'])):\n",
    "    traits.append(single_data_json['traits'][i]['trait_type'])\n",
    "\n",
    "traits"
   ]
  },
  {
   "cell_type": "code",
   "execution_count": null,
   "id": "2bd0f336",
   "metadata": {},
   "outputs": [],
   "source": []
  }
 ],
 "metadata": {
  "kernelspec": {
   "display_name": "Python 3",
   "language": "python",
   "name": "python3"
  },
  "language_info": {
   "codemirror_mode": {
    "name": "ipython",
    "version": 3
   },
   "file_extension": ".py",
   "mimetype": "text/x-python",
   "name": "python",
   "nbconvert_exporter": "python",
   "pygments_lexer": "ipython3",
   "version": "3.7.10"
  }
 },
 "nbformat": 4,
 "nbformat_minor": 5
}
