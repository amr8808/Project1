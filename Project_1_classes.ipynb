{
 "cells": [
  {
   "cell_type": "code",
   "execution_count": 49,
   "id": "0036495a",
   "metadata": {},
   "outputs": [],
   "source": [
    "import requests\n",
    "import pandas as pd\n"
   ]
  },
  {
   "cell_type": "code",
   "execution_count": 71,
   "id": "b816d697",
   "metadata": {},
   "outputs": [],
   "source": [
    "# class to pull data from collection level opensea api\n",
    "# must cast query url to variable url\n",
    "# url = 'https://api.opensea.io/api/v...'\n",
    "\n",
    "class openseacollection:\n",
    "    def __init__ (self, url):\n",
    "        self.url = url   #assign query url to \"self.url\"\n",
    "        self.get_data()  #run get_data method\n",
    "        self.get_attributes() #run get attribute method\n",
    "\n",
    "    def get_data(self):\n",
    "        self.data = requests.request(\"GET\", self.url).json() #assign query json to \"self.data\"\n",
    "\n",
    "    def get_attributes(self): # run functions for each attribute\n",
    "        self.num_sales = [x['num_sales'] for x in self.data['assets']]\n",
    "        self.token_id = [x['token_id'] for x in self.data['assets']]\n",
    "        self.name = [x['name'] for x in self.data['assets']]\n",
    "        self.last_sale = [x['last_sale'] for x in self.data['assets']]\n",
    "        self.project_des = self.data['assets'][0]['asset_contract']['description']\n",
    "\n",
    "    def as_df(self): # cast attributes into df\n",
    "        return pd.DataFrame({'Token ID':self.token_id,'Name':self.name})\n",
    "    "
   ]
  },
  {
   "cell_type": "code",
   "execution_count": 72,
   "id": "98677bfb",
   "metadata": {},
   "outputs": [],
   "source": [
    "url = 'https://api.opensea.io/api/v1/assets?asset_contract_address=0x4f89Cd0CAE1e54D98db6a80150a824a533502EEa&order_direction=desc&offset=0&limit=20'"
   ]
  },
  {
   "cell_type": "code",
   "execution_count": 73,
   "id": "fbddd6b4",
   "metadata": {},
   "outputs": [],
   "source": [
    "os = openseacollection(url)"
   ]
  },
  {
   "cell_type": "code",
   "execution_count": null,
   "id": "57627fbf",
   "metadata": {},
   "outputs": [],
   "source": []
  },
  {
   "cell_type": "code",
   "execution_count": null,
   "id": "ea545309",
   "metadata": {},
   "outputs": [],
   "source": []
  },
  {
   "cell_type": "code",
   "execution_count": null,
   "id": "12495454",
   "metadata": {},
   "outputs": [],
   "source": []
  }
 ],
 "metadata": {
  "kernelspec": {
   "display_name": "Python [conda env:pyvizenv] *",
   "language": "python",
   "name": "conda-env-pyvizenv-py"
  },
  "language_info": {
   "codemirror_mode": {
    "name": "ipython",
    "version": 3
   },
   "file_extension": ".py",
   "mimetype": "text/x-python",
   "name": "python",
   "nbconvert_exporter": "python",
   "pygments_lexer": "ipython3",
   "version": "3.7.10"
  }
 },
 "nbformat": 4,
 "nbformat_minor": 5
}
