{
 "cells": [
  {
   "cell_type": "code",
   "execution_count": 26,
   "id": "5237e02e",
   "metadata": {},
   "outputs": [],
   "source": [
    "class nft:\n",
    "    def __init__ (self,  prop_id, nft_count,asset_type, collection_name, current_value):\n",
    "        \n",
    "        self.prop_id = prop_id\n",
    "        self.asset_type = asset_type\n",
    "        self.collection_name = collection_name\n",
    "        self.current_value = current_value\n"
   ]
  },
  {
   "cell_type": "code",
   "execution_count": 23,
   "id": "fc81ccf7",
   "metadata": {},
   "outputs": [],
   "source": []
  },
  {
   "cell_type": "code",
   "execution_count": null,
   "id": "7293c248",
   "metadata": {},
   "outputs": [],
   "source": []
  },
  {
   "cell_type": "code",
   "execution_count": 7,
   "id": "1338a71b",
   "metadata": {},
   "outputs": [],
   "source": []
  },
  {
   "cell_type": "code",
   "execution_count": null,
   "id": "3bd1acd3",
   "metadata": {},
   "outputs": [],
   "source": []
  },
  {
   "cell_type": "code",
   "execution_count": null,
   "id": "534feade",
   "metadata": {},
   "outputs": [],
   "source": []
  }
 ],
 "metadata": {
  "kernelspec": {
   "display_name": "Python [conda env:pyvizenv] *",
   "language": "python",
   "name": "conda-env-pyvizenv-py"
  },
  "language_info": {
   "codemirror_mode": {
    "name": "ipython",
    "version": 3
   },
   "file_extension": ".py",
   "mimetype": "text/x-python",
   "name": "python",
   "nbconvert_exporter": "python",
   "pygments_lexer": "ipython3",
   "version": "3.7.10"
  }
 },
 "nbformat": 4,
 "nbformat_minor": 5
}
