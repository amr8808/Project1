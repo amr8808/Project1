{
 "cells": [
  {
   "cell_type": "markdown",
   "id": "bc172363",
   "metadata": {},
   "source": [
    "### Collection Level OpenSea API"
   ]
  },
  {
   "cell_type": "code",
   "execution_count": 9,
   "id": "68b4308d",
   "metadata": {},
   "outputs": [],
   "source": [
    "import requests\n",
    "import pandas as pd"
   ]
  },
  {
   "cell_type": "code",
   "execution_count": 24,
   "id": "804df5c6",
   "metadata": {},
   "outputs": [],
   "source": [
    "# class to pull data from collection level opensea api\n",
    "# must cast query url to variable url\n",
    "# url = 'https://api.opensea.io/api/v...'\n",
    "\n",
    "class openseacollection:\n",
    "    def __init__ (self, url):\n",
    "        self.url = url   #assign query url to \"self.url\"\n",
    "        self.get_data()  #run get_data method\n",
    "        self.get_attributes() #run get attribute method\n",
    "\n",
    "    def get_data(self):\n",
    "        self.data = requests.request(\"GET\", self.url).json() #assign query json to \"self.data\"\n",
    "\n",
    "    def get_attributes(self): # run functions for each attribute\n",
    "        self.num_sales = [x['num_sales'] for x in self.data['assets']]\n",
    "        self.token_id = [x['token_id'] for x in self.data['assets']]\n",
    "        self.name = [x['name'] for x in self.data['assets']]\n",
    "        self.last_sale = [x['last_sale'] for x in self.data['assets']]\n",
    "        self.project_des = self.data['assets'][0]['asset_contract']['description']\n",
    "        self.collection_name = self.data['assets'][0]['collection']['name']\n",
    "        \n",
    "    def get_summary(self):\n",
    "        print(f\"Project Description: {self.project_des}\")\n",
    "        print(f\"\\nTotal Sales: {self.num_sales}\")\n",
    "        print(f\"\\nToken ID: {self.token_id}\")\n",
    "        print(f\"\\nToken Name: {self.name}\")\n",
    "        print(f\"\\nLast Sale: {self.last_sale}\")\n",
    "        \n",
    "    \n",
    "\n",
    "    def as_df(self): # cast attributes into df\n",
    "        return pd.DataFrame({'Token ID':self.token_id,'Name':self.name})"
   ]
  },
  {
   "cell_type": "code",
   "execution_count": 27,
   "id": "be381f9d",
   "metadata": {},
   "outputs": [],
   "source": [
    "url = 'https://api.opensea.io/api/v1/assets?asset_contract_address=0x4f89Cd0CAE1e54D98db6a80150a824a533502EEa&order_direction=desc&offset=0&limit=20'"
   ]
  },
  {
   "cell_type": "code",
   "execution_count": 28,
   "id": "22320fc7",
   "metadata": {},
   "outputs": [],
   "source": [
    "osc = openseacollection(url)"
   ]
  },
  {
   "cell_type": "markdown",
   "id": "1fe893cc",
   "metadata": {},
   "source": [
    "### Single Item OpenSea API"
   ]
  },
  {
   "cell_type": "code",
   "execution_count": 30,
   "id": "ef78e384",
   "metadata": {},
   "outputs": [],
   "source": [
    "import requests\n",
    "import pandas as pd"
   ]
  },
  {
   "cell_type": "code",
   "execution_count": 35,
   "id": "6bf66501",
   "metadata": {},
   "outputs": [],
   "source": [
    "class OpenSeaItem:\n",
    "    def __init__ (self, url):\n",
    "        self.url = url   #assign query url to \"self.url\"\n",
    "        self.get_data()  #run get_data method\n",
    "        self.get_attributes() #run get attribute method\n",
    "\n",
    "    def get_data(self):\n",
    "        self.data = requests.request(\"GET\", self.url).json() #assign query json to \"self.data\"\n",
    "\n",
    "    def get_attributes(self):\n",
    "        self.asset_image = self.data['image_thumbnail_url']\n",
    "        self.currency_data = [x['symbol'] for x in self.data['collection']['payment_tokens']]\n",
    "        self.floor_price = self.data['collection']['stats']['floor_price']\n",
    "        self.total_supply = self.data['collection']['stats']['total_supply']\n",
    "        self.traits = [x['trait_type'] for x in self.data['traits']]\n",
    "        self.collection_name = self.data['collection']['name']\n",
    "    \n",
    "    def price_plot(self):\n",
    "        price_plot_chart = self.data['hist_price'].hvplot.line()\n",
    "        return price_plot_chart\n",
    "    \n",
    "    def as_df(self):\n",
    "        return pd.DataFrame({'Token ID':self.token_id,'Name':self.name})"
   ]
  },
  {
   "cell_type": "code",
   "execution_count": 36,
   "id": "73c623fc",
   "metadata": {},
   "outputs": [
    {
     "data": {
      "text/plain": [
       "0.745"
      ]
     },
     "execution_count": 36,
     "metadata": {},
     "output_type": "execute_result"
    }
   ],
   "source": [
    "url = 'https://api.opensea.io/api/v1/asset/0x4f89Cd0CAE1e54D98db6a80150a824a533502EEa/7089/'\n",
    "\n",
    "os1 = OpenSeaItem(url)\n",
    "os1.floor_price"
   ]
  },
  {
   "cell_type": "code",
   "execution_count": 45,
   "id": "a2aab069",
   "metadata": {},
   "outputs": [
    {
     "data": {
      "text/plain": [
       "'WETH ETH'"
      ]
     },
     "execution_count": 45,
     "metadata": {},
     "output_type": "execute_result"
    }
   ],
   "source": [
    "os1.currency_data[1]+\" \"+os1.currency_data[0]"
   ]
  },
  {
   "cell_type": "code",
   "execution_count": 40,
   "id": "0391bc43",
   "metadata": {},
   "outputs": [
    {
     "data": {
      "text/plain": [
       "9998.0"
      ]
     },
     "execution_count": 40,
     "metadata": {},
     "output_type": "execute_result"
    }
   ],
   "source": [
    "os1.total_supply"
   ]
  },
  {
   "cell_type": "code",
   "execution_count": 46,
   "id": "75ee0ea5",
   "metadata": {},
   "outputs": [
    {
     "data": {
      "text/plain": [
       "['Strain',\n",
       " 'Head Space',\n",
       " 'Eyes',\n",
       " 'Skin',\n",
       " 'Background',\n",
       " 'Chain',\n",
       " 'Mouth',\n",
       " 'Clothes',\n",
       " 'Hat']"
      ]
     },
     "execution_count": 46,
     "metadata": {},
     "output_type": "execute_result"
    }
   ],
   "source": [
    "os1.traits"
   ]
  },
  {
   "cell_type": "code",
   "execution_count": null,
   "id": "fc439603",
   "metadata": {},
   "outputs": [],
   "source": []
  }
 ],
 "metadata": {
  "kernelspec": {
   "display_name": "Python [conda env:pyvizenv] *",
   "language": "python",
   "name": "conda-env-pyvizenv-py"
  },
  "language_info": {
   "codemirror_mode": {
    "name": "ipython",
    "version": 3
   },
   "file_extension": ".py",
   "mimetype": "text/x-python",
   "name": "python",
   "nbconvert_exporter": "python",
   "pygments_lexer": "ipython3",
   "version": "3.7.10"
  }
 },
 "nbformat": 4,
 "nbformat_minor": 5
}
