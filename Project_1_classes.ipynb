{
 "cells": [
  {
   "cell_type": "markdown",
   "id": "5a0d41de",
   "metadata": {},
   "source": [
    "### Collection Level OpenSea API"
   ]
  },
  {
   "cell_type": "code",
   "execution_count": 148,
   "id": "2ed3a36f",
   "metadata": {},
   "outputs": [],
   "source": [
    "import requests\n",
    "import pandas as pd"
   ]
  },
  {
   "cell_type": "code",
   "execution_count": 149,
   "id": "257a31fa",
   "metadata": {},
   "outputs": [],
   "source": [
    "# class to pull data from collection level opensea api\n",
    "# must cast query url to variable url\n",
    "# url = 'https://api.opensea.io/api/v...'\n",
    "\n",
    "class openseacollection:\n",
    "    def __init__ (self, url):\n",
    "        self.url = url   #assign query url to \"self.url\"\n",
    "        self.get_data()  #run get_data method\n",
    "        self.get_attributes() #run get attribute method\n",
    "\n",
    "    def get_data(self):\n",
    "        self.data = requests.request(\"GET\", self.url).json() #assign query json to \"self.data\"\n",
    "\n",
    "    def get_attributes(self): # run functions for each attribute\n",
    "        self.num_sales = [x['num_sales'] for x in self.data['assets']]\n",
    "        self.token_id = [x['token_id'] for x in self.data['assets']]\n",
    "        self.name = [x['name'] for x in self.data['assets']]\n",
    "        self.last_sale = [x['last_sale'] for x in self.data['assets']]\n",
    "        self.project_des = self.data['assets'][0]['asset_contract']['description']\n",
    "        self.collection_name = self.data['assets'][0]['collection']['name']\n",
    "        \n",
    "    def get_summary(self):\n",
    "        print(f\"Project Description: {self.project_des}\")\n",
    "        print(f\"\\nTotal Sales: {self.num_sales}\")\n",
    "        print(f\"\\nToken ID: {self.token_id}\")\n",
    "        print(f\"\\nToken Name: {self.name}\")\n",
    "        print(f\"\\nLast Sale: {self.last_sale}\")\n",
    "        \n",
    "    \n",
    "\n",
    "    def as_df(self): # cast attributes into df\n",
    "        return pd.DataFrame({'Token ID':self.token_id,'Name':self.name})"
   ]
  },
  {
   "cell_type": "code",
   "execution_count": 150,
   "id": "225ba72b",
   "metadata": {},
   "outputs": [],
   "source": [
    "# def collection():\n",
    "#     collection_pane = pn.pane.Str(collection_name)\n",
    "#     return collection_pane\n",
    "\n",
    "# def nft_count():\n",
    "#     nft_count_pane = pn.pane.Str(total_supply)\n",
    "#     return nft_count_pane\n",
    "\n",
    "# def floor_px():\n",
    "#     floor_price_pane = pn.pane.Str(floor_price)\n",
    "#     return floor_price"
   ]
  },
  {
   "cell_type": "code",
   "execution_count": 151,
   "id": "4d76793f",
   "metadata": {},
   "outputs": [],
   "source": [
    "# #Create a Title for the Dashboard\n",
    "# dashboard_title = collection\n",
    "# dash_desc = self.collection_name\n",
    "\n",
    "# # Create a tab layout for the dashboard\n",
    "\n",
    "# # # Create the dashboard\n",
    "# dashboard = pn.Column(dashboard_title,\n",
    "#                     dash_desc,\n",
    "#                     icon,\n",
    "#                     floor_px,\n",
    "#                     nft_count,\n",
    "#                      )\n",
    "# dashboard"
   ]
  },
  {
   "cell_type": "code",
   "execution_count": 152,
   "id": "52a2c5b3",
   "metadata": {},
   "outputs": [],
   "source": [
    "url = 'https://api.opensea.io/api/v1/assets?asset_contract_address=0x4f89Cd0CAE1e54D98db6a80150a824a533502EEa&order_direction=desc&offset=0&limit=20'"
   ]
  },
  {
   "cell_type": "code",
   "execution_count": 153,
   "id": "84d0cad3",
   "metadata": {},
   "outputs": [],
   "source": [
    "osc = openseacollection(url)"
   ]
  },
  {
   "cell_type": "code",
   "execution_count": 159,
   "id": "fb5e5b1f",
   "metadata": {},
   "outputs": [
    {
     "data": {
      "text/plain": [
       "'PEACEFUL GROUPIES'"
      ]
     },
     "execution_count": 159,
     "metadata": {},
     "output_type": "execute_result"
    }
   ],
   "source": [
    "osc.collection_name"
   ]
  },
  {
   "cell_type": "code",
   "execution_count": 160,
   "id": "6ef9fbc6",
   "metadata": {},
   "outputs": [
    {
     "name": "stdout",
     "output_type": "stream",
     "text": [
      "Project Description: PEACEFUL GROUPIES is a collection of 10000 unique and crazy characters. These peaceful creatures will follow you on your adventures through this digital psychedelic experience called the PEACEVOID.\n",
      "\n",
      "Total Sales: [0, 0, 0, 0, 0, 0, 0, 0, 0, 0, 0, 0, 0, 0, 0, 0, 0, 0, 0, 0]\n",
      "\n",
      "Token ID: ['10000', '9999', '9998', '9997', '9996', '9995', '9994', '9993', '9992', '9991', '9990', '9989', '9988', '9987', '9986', '9985', '9984', '9983', '9982', '9981']\n",
      "\n",
      "Token Name: ['Groupie #10000', 'Groupie #9999', 'Groupie #9998', 'Groupie #9997', 'Groupie #9996', 'Groupie #9995', 'Groupie #9994', 'Groupie #9993', 'Groupie #9992', 'Groupie #9991', 'Groupie #9990', 'Groupie #9989', 'Groupie #9988', 'Groupie #9987', 'Groupie #9986', 'Groupie #9985', 'Groupie #9984', 'Groupie #9983', 'Groupie #9982', 'Groupie #9981']\n",
      "\n",
      "Last Sale: [None, None, None, None, None, None, None, None, None, None, None, None, None, None, None, None, None, None, None, None]\n"
     ]
    }
   ],
   "source": [
    "osc.get_summary()"
   ]
  },
  {
   "cell_type": "markdown",
   "id": "5f798549",
   "metadata": {},
   "source": [
    "### Single Item OpenSea API"
   ]
  },
  {
   "cell_type": "code",
   "execution_count": 155,
   "id": "56665bda",
   "metadata": {},
   "outputs": [],
   "source": [
    "import requests\n",
    "import pandas as pd"
   ]
  },
  {
   "cell_type": "code",
   "execution_count": 163,
   "id": "d9310399",
   "metadata": {},
   "outputs": [],
   "source": [
    "class OpenSeaItem:\n",
    "    def __init__ (self, url):\n",
    "        self.url = url   #assign query url to \"self.url\"\n",
    "        self.get_data()  #run get_data method\n",
    "        self.get_attributes() #run get attribute method\n",
    "\n",
    "    def get_data(self):\n",
    "        self.data = requests.request(\"GET\", self.url).json() #assign query json to \"self.data\"\n",
    "\n",
    "    def get_attributes(self):\n",
    "        self.asset_image = self.data['image_thumbnail_url']\n",
    "        self.currency_data = self.data['collection']['payment_tokens']\n",
    "        self.floor_price = self.data['collection']['stats']['floor_price']\n",
    "        self.total_supply = self.data['collection']['stats']['total_supply']\n",
    "        self.traits = [x['trait_type'] for x in self.data['traits']]\n",
    "        self.collection_name = self.data['collection']['name']\n",
    "    \n",
    "    def price_plot(self):\n",
    "        price_plot_chart = self.data['hist_price'].hvplot.line()\n",
    "        return price_plot_chart\n",
    "    \n",
    "    def as_df(self):\n",
    "        return pd.DataFrame({'Token ID':self.token_id,'Name':self.name})"
   ]
  },
  {
   "cell_type": "code",
   "execution_count": 164,
   "id": "c26e9551",
   "metadata": {},
   "outputs": [
    {
     "data": {
      "text/plain": [
       "1.1"
      ]
     },
     "execution_count": 164,
     "metadata": {},
     "output_type": "execute_result"
    }
   ],
   "source": [
    "url = 'https://api.opensea.io/api/v1/asset/0x4f89Cd0CAE1e54D98db6a80150a824a533502EEa/7089/'\n",
    "\n",
    "os1 = OpenSeaItem(url)\n",
    "os1.floor_price"
   ]
  },
  {
   "cell_type": "code",
   "execution_count": null,
   "id": "d08f344c",
   "metadata": {},
   "outputs": [],
   "source": []
  },
  {
   "cell_type": "code",
   "execution_count": null,
   "id": "b7769ecc",
   "metadata": {},
   "outputs": [],
   "source": []
  }
 ],
 "metadata": {
  "kernelspec": {
   "display_name": "Python [conda env:pyvizenv] *",
   "language": "python",
   "name": "conda-env-pyvizenv-py"
  },
  "language_info": {
   "codemirror_mode": {
    "name": "ipython",
    "version": 3
   },
   "file_extension": ".py",
   "mimetype": "text/x-python",
   "name": "python",
   "nbconvert_exporter": "python",
   "pygments_lexer": "ipython3",
   "version": "3.7.10"
  }
 },
 "nbformat": 4,
 "nbformat_minor": 5
}
