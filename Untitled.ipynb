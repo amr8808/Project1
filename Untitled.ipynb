{
 "cells": [
  {
   "cell_type": "code",
   "execution_count": 11,
   "id": "86cd36f2",
   "metadata": {},
   "outputs": [],
   "source": [
    "from os_api_wrapper import openseacollection\n",
    "import requests\n",
    "import pandas as pd"
   ]
  },
  {
   "cell_type": "code",
   "execution_count": 12,
   "id": "da28c868",
   "metadata": {},
   "outputs": [],
   "source": [
    "url = 'https://api.opensea.io/api/v1/assets?asset_contract_address=0x4f89Cd0CAE1e54D98db6a80150a824a533502EEa&order_direction=desc&offset=0&limit=20'"
   ]
  },
  {
   "cell_type": "code",
   "execution_count": 13,
   "id": "28723976",
   "metadata": {},
   "outputs": [],
   "source": [
    "data = openseacollection(url)"
   ]
  },
  {
   "cell_type": "code",
   "execution_count": 15,
   "id": "e4169406",
   "metadata": {},
   "outputs": [
    {
     "data": {
      "text/plain": [
       "'PEACEFUL GROUPIES is a collection of 10000 unique and crazy characters. These peaceful creatures will follow you on your adventures through this digital psychedelic experience called the PEACEVOID.'"
      ]
     },
     "execution_count": 15,
     "metadata": {},
     "output_type": "execute_result"
    }
   ],
   "source": [
    "data.project_des"
   ]
  },
  {
   "cell_type": "code",
   "execution_count": 17,
   "id": "eb463380",
   "metadata": {},
   "outputs": [
    {
     "data": {
      "text/html": [
       "<div>\n",
       "<style scoped>\n",
       "    .dataframe tbody tr th:only-of-type {\n",
       "        vertical-align: middle;\n",
       "    }\n",
       "\n",
       "    .dataframe tbody tr th {\n",
       "        vertical-align: top;\n",
       "    }\n",
       "\n",
       "    .dataframe thead th {\n",
       "        text-align: right;\n",
       "    }\n",
       "</style>\n",
       "<table border=\"1\" class=\"dataframe\">\n",
       "  <thead>\n",
       "    <tr style=\"text-align: right;\">\n",
       "      <th></th>\n",
       "      <th>Token ID</th>\n",
       "      <th>Name</th>\n",
       "    </tr>\n",
       "  </thead>\n",
       "  <tbody>\n",
       "    <tr>\n",
       "      <th>0</th>\n",
       "      <td>10000</td>\n",
       "      <td>Groupie #10000</td>\n",
       "    </tr>\n",
       "    <tr>\n",
       "      <th>1</th>\n",
       "      <td>9999</td>\n",
       "      <td>Groupie #9999</td>\n",
       "    </tr>\n",
       "    <tr>\n",
       "      <th>2</th>\n",
       "      <td>9998</td>\n",
       "      <td>Groupie #9998</td>\n",
       "    </tr>\n",
       "    <tr>\n",
       "      <th>3</th>\n",
       "      <td>9997</td>\n",
       "      <td>Groupie #9997</td>\n",
       "    </tr>\n",
       "    <tr>\n",
       "      <th>4</th>\n",
       "      <td>9996</td>\n",
       "      <td>Groupie #9996</td>\n",
       "    </tr>\n",
       "    <tr>\n",
       "      <th>5</th>\n",
       "      <td>9995</td>\n",
       "      <td>Groupie #9995</td>\n",
       "    </tr>\n",
       "    <tr>\n",
       "      <th>6</th>\n",
       "      <td>9994</td>\n",
       "      <td>Groupie #9994</td>\n",
       "    </tr>\n",
       "    <tr>\n",
       "      <th>7</th>\n",
       "      <td>9993</td>\n",
       "      <td>Groupie #9993</td>\n",
       "    </tr>\n",
       "    <tr>\n",
       "      <th>8</th>\n",
       "      <td>9992</td>\n",
       "      <td>Groupie #9992</td>\n",
       "    </tr>\n",
       "    <tr>\n",
       "      <th>9</th>\n",
       "      <td>9991</td>\n",
       "      <td>Groupie #9991</td>\n",
       "    </tr>\n",
       "    <tr>\n",
       "      <th>10</th>\n",
       "      <td>9990</td>\n",
       "      <td>Groupie #9990</td>\n",
       "    </tr>\n",
       "    <tr>\n",
       "      <th>11</th>\n",
       "      <td>9989</td>\n",
       "      <td>Groupie #9989</td>\n",
       "    </tr>\n",
       "    <tr>\n",
       "      <th>12</th>\n",
       "      <td>9988</td>\n",
       "      <td>Groupie #9988</td>\n",
       "    </tr>\n",
       "    <tr>\n",
       "      <th>13</th>\n",
       "      <td>9987</td>\n",
       "      <td>Groupie #9987</td>\n",
       "    </tr>\n",
       "    <tr>\n",
       "      <th>14</th>\n",
       "      <td>9986</td>\n",
       "      <td>Groupie #9986</td>\n",
       "    </tr>\n",
       "    <tr>\n",
       "      <th>15</th>\n",
       "      <td>9985</td>\n",
       "      <td>Groupie #9985</td>\n",
       "    </tr>\n",
       "    <tr>\n",
       "      <th>16</th>\n",
       "      <td>9984</td>\n",
       "      <td>Groupie #9984</td>\n",
       "    </tr>\n",
       "    <tr>\n",
       "      <th>17</th>\n",
       "      <td>9983</td>\n",
       "      <td>Groupie #9983</td>\n",
       "    </tr>\n",
       "    <tr>\n",
       "      <th>18</th>\n",
       "      <td>9982</td>\n",
       "      <td>Groupie #9982</td>\n",
       "    </tr>\n",
       "    <tr>\n",
       "      <th>19</th>\n",
       "      <td>9981</td>\n",
       "      <td>Groupie #9981</td>\n",
       "    </tr>\n",
       "  </tbody>\n",
       "</table>\n",
       "</div>"
      ],
      "text/plain": [
       "   Token ID            Name\n",
       "0     10000  Groupie #10000\n",
       "1      9999   Groupie #9999\n",
       "2      9998   Groupie #9998\n",
       "3      9997   Groupie #9997\n",
       "4      9996   Groupie #9996\n",
       "5      9995   Groupie #9995\n",
       "6      9994   Groupie #9994\n",
       "7      9993   Groupie #9993\n",
       "8      9992   Groupie #9992\n",
       "9      9991   Groupie #9991\n",
       "10     9990   Groupie #9990\n",
       "11     9989   Groupie #9989\n",
       "12     9988   Groupie #9988\n",
       "13     9987   Groupie #9987\n",
       "14     9986   Groupie #9986\n",
       "15     9985   Groupie #9985\n",
       "16     9984   Groupie #9984\n",
       "17     9983   Groupie #9983\n",
       "18     9982   Groupie #9982\n",
       "19     9981   Groupie #9981"
      ]
     },
     "execution_count": 17,
     "metadata": {},
     "output_type": "execute_result"
    }
   ],
   "source": [
    "data.as_df()\n"
   ]
  },
  {
   "cell_type": "code",
   "execution_count": null,
   "id": "193799c0",
   "metadata": {},
   "outputs": [],
   "source": []
  }
 ],
 "metadata": {
  "kernelspec": {
   "display_name": "Python [conda env:pyvizenv] *",
   "language": "python",
   "name": "conda-env-pyvizenv-py"
  },
  "language_info": {
   "codemirror_mode": {
    "name": "ipython",
    "version": 3
   },
   "file_extension": ".py",
   "mimetype": "text/x-python",
   "name": "python",
   "nbconvert_exporter": "python",
   "pygments_lexer": "ipython3",
   "version": "3.7.10"
  }
 },
 "nbformat": 4,
 "nbformat_minor": 5
}
