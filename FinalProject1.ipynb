{
 "cells": [
  {
   "cell_type": "code",
   "execution_count": 1,
   "id": "41f92e75",
   "metadata": {},
   "outputs": [],
   "source": [
    "from os_api_wrapper import openseacollection\n",
    "import requests\n",
    "import pandas as pd\n",
    "\n",
    "# openseacollection syntax is data_name = openseacollection (url)\n",
    "# url = the query url from opensea 'https://api.opensea.io/api/v...'"
   ]
  },
  {
   "cell_type": "code",
   "execution_count": 2,
   "id": "e5277efb",
   "metadata": {},
   "outputs": [],
   "source": [
    "url = 'https://api.opensea.io/api/v1/assets?asset_contract_address=0x4f89Cd0CAE1e54D98db6a80150a824a533502EEa&order_direction=desc&offset=0&limit=20'"
   ]
  },
  {
   "cell_type": "code",
   "execution_count": null,
   "id": "71e8f7ce",
   "metadata": {},
   "outputs": [],
   "source": []
  },
  {
   "cell_type": "code",
   "execution_count": null,
   "id": "d800df9d",
   "metadata": {},
   "outputs": [],
   "source": []
  },
  {
   "cell_type": "code",
   "execution_count": null,
   "id": "57dfe3d6",
   "metadata": {},
   "outputs": [],
   "source": []
  },
  {
   "cell_type": "code",
   "execution_count": null,
   "id": "ee3870f8",
   "metadata": {},
   "outputs": [],
   "source": [
    "def collection():\n",
    "    collection_pane = pn.pane.Str(collection_name)\n",
    "    return collection_pane\n",
    "\n",
    "def nft_count():\n",
    "    nft_count_pane = pn.pane.Str(total_supply)\n",
    "    return nft_count_pane\n",
    "\n",
    "def floor_px():\n",
    "    floor_price_pane = pn.pane.Str(floor_price)\n",
    "    return floor_price"
   ]
  },
  {
   "cell_type": "code",
   "execution_count": null,
   "id": "80cc65ba",
   "metadata": {},
   "outputs": [],
   "source": [
    "#Create a Title for the Dashboard\n",
    "dashboard_title = collection\n",
    "dash_desc = project_des\n",
    "\n",
    "# Create a tab layout for the dashboard\n",
    "\n",
    "# # Create the dashboard\n",
    "dashboard = pn.Column(dashboard_title,\n",
    "                    dash_desc,\n",
    "                    icon,\n",
    "                    floor_px,\n",
    "                    nft_count,\n",
    "                     )\n",
    "dashboard"
   ]
  }
 ],
 "metadata": {
  "kernelspec": {
   "display_name": "Python [conda env:pyvizenv] *",
   "language": "python",
   "name": "conda-env-pyvizenv-py"
  },
  "language_info": {
   "codemirror_mode": {
    "name": "ipython",
    "version": 3
   },
   "file_extension": ".py",
   "mimetype": "text/x-python",
   "name": "python",
   "nbconvert_exporter": "python",
   "pygments_lexer": "ipython3",
   "version": "3.7.10"
  }
 },
 "nbformat": 4,
 "nbformat_minor": 5
}
