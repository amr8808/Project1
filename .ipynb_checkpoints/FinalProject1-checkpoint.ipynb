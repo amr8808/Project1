{
 "cells": [
  {
   "cell_type": "code",
   "execution_count": 1,
   "id": "35feac39",
   "metadata": {},
   "outputs": [],
   "source": [
    "from os_api_wrapper import openseacollection\n",
    "import requests\n",
    "import pandas as pd\n",
    "\n",
    "# openseacollection syntax is data_name = openseacollection (url)\n",
    "# url = the query url from opensea 'https://api.opensea.io/api/v...'"
   ]
  },
  {
   "cell_type": "code",
   "execution_count": 2,
   "id": "6d071b52",
   "metadata": {},
   "outputs": [],
   "source": [
    "url = 'https://api.opensea.io/api/v1/assets?asset_contract_address=0x4f89Cd0CAE1e54D98db6a80150a824a533502EEa&order_direction=desc&offset=0&limit=20'"
   ]
  },
  {
   "cell_type": "code",
   "execution_count": null,
   "id": "f214c344",
   "metadata": {},
   "outputs": [],
   "source": []
  },
  {
   "cell_type": "code",
   "execution_count": null,
   "id": "844e8d88",
   "metadata": {},
   "outputs": [],
   "source": []
  },
  {
   "cell_type": "code",
   "execution_count": null,
   "id": "fad1ad00",
   "metadata": {},
   "outputs": [],
   "source": []
  }
 ],
 "metadata": {
  "kernelspec": {
   "display_name": "Python [conda env:pyvizenv] *",
   "language": "python",
   "name": "conda-env-pyvizenv-py"
  },
  "language_info": {
   "codemirror_mode": {
    "name": "ipython",
    "version": 3
   },
   "file_extension": ".py",
   "mimetype": "text/x-python",
   "name": "python",
   "nbconvert_exporter": "python",
   "pygments_lexer": "ipython3",
   "version": "3.7.10"
  }
 },
 "nbformat": 4,
 "nbformat_minor": 5
}
