{
 "cells": [
  {
   "cell_type": "markdown",
   "id": "63e82da0",
   "metadata": {},
   "source": [
    "### Collection Level OpenSea API"
   ]
  },
  {
   "cell_type": "code",
   "execution_count": 80,
   "id": "484c1b65",
   "metadata": {},
   "outputs": [],
   "source": [
    "import requests\n",
    "import pandas as pd"
   ]
  },
  {
   "cell_type": "code",
   "execution_count": 81,
   "id": "9ebc8110",
   "metadata": {},
   "outputs": [],
   "source": [
    "# class to pull data from collection level opensea api\n",
    "# must cast query url to variable url\n",
    "# url = 'https://api.opensea.io/api/v...'\n",
    "\n",
    "class openseacollection:\n",
    "    def __init__ (self, url):\n",
    "        self.url = url   #assign query url to \"self.url\"\n",
    "        self.get_data()  #run get_data method\n",
    "        self.get_attributes() #run get attribute method\n",
    "\n",
    "    def get_data(self):\n",
    "        self.data = requests.request(\"GET\", self.url).json() #assign query json to \"self.data\"\n",
    "\n",
    "    def get_attributes(self): # run functions for each attribute\n",
    "        self.num_sales = [x['num_sales'] for x in self.data['assets']]\n",
    "        self.token_id = [x['token_id'] for x in self.data['assets']]\n",
    "        self.name = [x['name'] for x in self.data['assets']]\n",
    "        self.last_sale = [x['last_sale'] for x in self.data['assets']]\n",
    "        self.project_des = self.data['assets'][0]['asset_contract']['description']\n",
    "\n",
    "    def as_df(self): # cast attributes into df\n",
    "        return pd.DataFrame({'Token ID':self.token_id,'Name':self.name})\n",
    "    "
   ]
  },
  {
   "cell_type": "code",
   "execution_count": 82,
   "id": "5b180493",
   "metadata": {},
   "outputs": [],
   "source": [
    "url = 'https://api.opensea.io/api/v1/assets?asset_contract_address=0x4f89Cd0CAE1e54D98db6a80150a824a533502EEa&order_direction=desc&offset=0&limit=20'"
   ]
  },
  {
   "cell_type": "code",
   "execution_count": 85,
   "id": "4e0440ff",
   "metadata": {},
   "outputs": [
    {
     "data": {
      "text/plain": [
       "'PEACEFUL GROUPIES is a collection of 10000 unique and crazy characters. These peaceful creatures will follow you on your adventures through this digital psychedelic experience called the PEACEVOID.'"
      ]
     },
     "execution_count": 85,
     "metadata": {},
     "output_type": "execute_result"
    }
   ],
   "source": [
    "osc = openseacollection(url)\n",
    "osc.project_des"
   ]
  },
  {
   "cell_type": "markdown",
   "id": "a66001bf",
   "metadata": {},
   "source": [
    "### Single Item OpenSea API"
   ]
  },
  {
   "cell_type": "code",
   "execution_count": null,
   "id": "93b8cd62",
   "metadata": {},
   "outputs": [],
   "source": [
    "import requests\n",
    "import pandas as pd"
   ]
  },
  {
   "cell_type": "code",
   "execution_count": 77,
   "id": "52e18339",
   "metadata": {},
   "outputs": [],
   "source": [
    "class OpenSeaItem:\n",
    "    def __init__ (self, url):\n",
    "        self.url = url   #assign query url to \"self.url\"\n",
    "        self.get_data()  #run get_data method\n",
    "        self.get_attributes() #run get attribute method\n",
    "\n",
    "    def get_data(self):\n",
    "        self.data = requests.request(\"GET\", self.url).json() #assign query json to \"self.data\"\n",
    "\n",
    "    def get_attributes(self):\n",
    "        self.asset_image = self.data['image_thumbnail_url']\n",
    "        self.currency_data = self.data['collection']['payment_tokens']\n",
    "        self.floor_price = self.data['collection']['stats']['floor_price']\n",
    "        self.total_supply = self.data['collection']['stats']['total_supply']\n",
    "        self.traits = [x['trait_type'] for x in self.data['traits']]\n",
    "        self.collection_name = self.data['collection']['name']\n",
    "    \n",
    "    # def as_df(self):\n",
    "    #   return pd.DataFrame({'Token ID':self.token_id,'Name':self.name})"
   ]
  },
  {
   "cell_type": "code",
   "execution_count": 78,
   "id": "afe61f8b",
   "metadata": {},
   "outputs": [
    {
     "data": {
      "text/plain": [
       "1.1"
      ]
     },
     "execution_count": 78,
     "metadata": {},
     "output_type": "execute_result"
    }
   ],
   "source": [
    "url = 'https://api.opensea.io/api/v1/asset/0x4f89Cd0CAE1e54D98db6a80150a824a533502EEa/7089/'\n",
    "\n",
    "os1 = OpenSeaItem(url)\n",
    "os1.floor_price"
   ]
  },
  {
   "cell_type": "code",
   "execution_count": null,
   "id": "471c1fba",
   "metadata": {},
   "outputs": [],
   "source": []
  }
 ],
 "metadata": {
  "kernelspec": {
   "display_name": "Python [conda env:pyvizenv] *",
   "language": "python",
   "name": "conda-env-pyvizenv-py"
  },
  "language_info": {
   "codemirror_mode": {
    "name": "ipython",
    "version": 3
   },
   "file_extension": ".py",
   "mimetype": "text/x-python",
   "name": "python",
   "nbconvert_exporter": "python",
   "pygments_lexer": "ipython3",
   "version": "3.7.10"
  }
 },
 "nbformat": 4,
 "nbformat_minor": 5
}
