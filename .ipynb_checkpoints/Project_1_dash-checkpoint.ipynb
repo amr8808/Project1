{
 "cells": [
  {
   "cell_type": "markdown",
   "id": "e0a3286f",
   "metadata": {},
   "source": [
    "#### Dashboard Items\n",
    "\n",
    " - Collection\n",
    " - NFT Count\n",
    " - Floor Price\n",
    " - Market Cap\n",
    " - Weekly Sales\n",
    " - Weekly Transaction Count\n",
    " - Thumbnail\n",
    " - Line Chart of Market Cap"
   ]
  },
  {
   "cell_type": "code",
   "execution_count": null,
   "id": "e120b72e",
   "metadata": {},
   "outputs": [],
   "source": [
    "# import panel as pn\n",
    "# pn.extension()"
   ]
  },
  {
   "cell_type": "code",
   "execution_count": 47,
   "id": "0f7e1a7a",
   "metadata": {},
   "outputs": [],
   "source": [
    "# import panel as pn\n",
    "# pn.extension('plotly')\n",
    "import plotly.express as px\n",
    "import pandas as pd\n",
    "import hvplot.pandas\n",
    "import matplotlib.pyplot as plt\n",
    "# import os\n",
    "# from pathlib import Path\n",
    "# from dotenv import load_dotenv\n",
    "\n",
    "collection_name = 'peaceful groupies'\n",
    "nft_total_count = '100'"
   ]
  },
  {
   "cell_type": "code",
   "execution_count": 64,
   "id": "c7bc59b9",
   "metadata": {},
   "outputs": [],
   "source": [
    "jpg_pane_4 = pn.pane.JPG('https://www.gstatic.com/webp/gallery/4.sm.jpg', width=500)\n",
    "jpg_pane_5 = pn.pane.JPG('https://www.gstatic.com/webp/gallery/5.sm.jpg', width=500)\n",
    "jpg_pane_1 = pn.pane.PNG('unnamed.png', height=65, width=75)\n",
    "jpg_pane_2 = pn.pane.JPG('https://www.gstatic.com/webp/gallery/2.sm.jpg', width=500)\n",
    "jpg_pane_3 = pn.pane.JPG('https://www.gstatic.com/webp/gallery/3.sm.jpg', width=500)\n"
   ]
  },
  {
   "cell_type": "code",
   "execution_count": 65,
   "id": "5d710eed",
   "metadata": {},
   "outputs": [],
   "source": [
    "dashboard_title = \"test dash\"\n",
    "dash_desc = \"this is my test dash\""
   ]
  },
  {
   "cell_type": "code",
   "execution_count": 66,
   "id": "c17705a2",
   "metadata": {},
   "outputs": [],
   "source": [
    "column1 = pn.Column(\"#My pics\",jpg_pane_1, jpg_pane_2, jpg_pane_3, jpg_pane_4, jpg_pane_5)\n",
    "column2 = pn.Column(jpg_pane_3, jpg_pane_4)"
   ]
  },
  {
   "cell_type": "code",
   "execution_count": null,
   "id": "fcce18dc",
   "metadata": {},
   "outputs": [],
   "source": []
  },
  {
   "cell_type": "code",
   "execution_count": 67,
   "id": "7920ac82",
   "metadata": {},
   "outputs": [],
   "source": [
    "tab1= pn.Tabs(\n",
    "    (\"all pics\", column1),\n",
    "    (\"some pics\", column2)\n",
    ")\n"
   ]
  },
  {
   "cell_type": "code",
   "execution_count": 68,
   "id": "01fc638e",
   "metadata": {},
   "outputs": [],
   "source": [
    "def collection():\n",
    "    collection_pane = pn.pane.Str(collection_name)\n",
    "    return collection_pane\n",
    "\n",
    "def nft_count():\n",
    "    nft_count_pane = pn.pane.Str(nft_total_count)\n",
    "    return nft_count_pane\n",
    "\n",
    "def"
   ]
  },
  {
   "cell_type": "code",
   "execution_count": 70,
   "id": "56db250d",
   "metadata": {},
   "outputs": [
    {
     "data": {},
     "metadata": {},
     "output_type": "display_data"
    },
    {
     "data": {
      "application/vnd.holoviews_exec.v0+json": "",
      "text/html": [
       "<div id='1264'>\n",
       "\n",
       "\n",
       "\n",
       "\n",
       "\n",
       "  <div class=\"bk-root\" id=\"93208e27-43b6-496e-85fd-4b42b73e2c3b\" data-root-id=\"1264\"></div>\n",
       "</div>\n",
       "<script type=\"application/javascript\">(function(root) {\n",
       "  function embed_document(root) {\n",
       "    var docs_json = {\"5823a061-b1ae-418e-b168-1569a5027ef9\":{\"defs\":[{\"extends\":null,\"module\":null,\"name\":\"ReactiveHTML1\",\"overrides\":[],\"properties\":[]},{\"extends\":null,\"module\":null,\"name\":\"FlexBox1\",\"overrides\":[],\"properties\":[{\"default\":\"flex-start\",\"kind\":null,\"name\":\"align_content\"},{\"default\":\"flex-start\",\"kind\":null,\"name\":\"align_items\"},{\"default\":\"row\",\"kind\":null,\"name\":\"flex_direction\"},{\"default\":\"wrap\",\"kind\":null,\"name\":\"flex_wrap\"},{\"default\":\"flex-start\",\"kind\":null,\"name\":\"justify_content\"}]},{\"extends\":null,\"module\":null,\"name\":\"TemplateActions1\",\"overrides\":[],\"properties\":[{\"default\":0,\"kind\":null,\"name\":\"open_modal\"},{\"default\":0,\"kind\":null,\"name\":\"close_modal\"}]},{\"extends\":null,\"module\":null,\"name\":\"MaterialTemplateActions1\",\"overrides\":[],\"properties\":[{\"default\":0,\"kind\":null,\"name\":\"open_modal\"},{\"default\":0,\"kind\":null,\"name\":\"close_modal\"}]},{\"extends\":null,\"module\":null,\"name\":\"GridStack1\",\"overrides\":[],\"properties\":[{\"default\":\"warn\",\"kind\":null,\"name\":\"mode\"},{\"default\":null,\"kind\":null,\"name\":\"ncols\"},{\"default\":null,\"kind\":null,\"name\":\"nrows\"},{\"default\":true,\"kind\":null,\"name\":\"allow_resize\"},{\"default\":true,\"kind\":null,\"name\":\"allow_drag\"},{\"default\":[],\"kind\":null,\"name\":\"state\"}]}],\"roots\":{\"references\":[{\"attributes\":{\"children\":[{\"id\":\"1268\"}],\"margin\":[0,0,0,0],\"name\":\"Row02109\"},\"id\":\"1267\",\"type\":\"Row\"},{\"attributes\":{\"children\":[{\"id\":\"1265\"},{\"id\":\"1269\"},{\"id\":\"1270\"},{\"id\":\"1274\"}],\"margin\":[0,0,0,0],\"name\":\"Column02123\"},\"id\":\"1264\",\"type\":\"Column\"},{\"attributes\":{\"children\":[{\"id\":\"1271\"},{\"id\":\"1272\"}],\"margin\":[0,0,0,0],\"name\":\"Column02112\"},\"id\":\"1270\",\"type\":\"Column\"},{\"attributes\":{\"margin\":[0,0,0,0],\"name\":\"Column02116\"},\"id\":\"1271\",\"type\":\"Column\"},{\"attributes\":{\"margin\":[0,0,0,0],\"name\":\"Column02122\"},\"id\":\"1275\",\"type\":\"Column\"},{\"attributes\":{\"children\":[{\"id\":\"1277\"}],\"margin\":[0,0,0,0],\"name\":\"Row02121\"},\"id\":\"1276\",\"type\":\"Row\"},{\"attributes\":{\"client_comm_id\":\"c07c7b83edbf47a68bf3b2df315379fb\",\"comm_id\":\"8a1ed78de3eb4f83abb47010cd2882ae\",\"plot_id\":\"1264\"},\"id\":\"1278\",\"type\":\"panel.models.comm_manager.CommManager\"},{\"attributes\":{\"height\":65,\"margin\":[5,5,5,5],\"name\":\"PNG02077\",\"sizing_mode\":\"fixed\",\"text\":\"&lt;img src=&quot;data:image/png;base64,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&quot; width=&quot;75px&quot; height=&quot;65px&quot; alt=&quot;&quot;&gt;&lt;/img&gt;\",\"width\":75},\"id\":\"1269\",\"type\":\"panel.models.markup.HTML\"},{\"attributes\":{\"margin\":[5,5,5,5],\"name\":\"Str02107\",\"text\":\"&lt;pre&gt;peaceful groupies&lt;/pre&gt;\"},\"id\":\"1268\",\"type\":\"panel.models.markup.HTML\"},{\"attributes\":{\"margin\":[5,5,5,5],\"name\":\"Str02119\",\"text\":\"&lt;pre&gt;100&lt;/pre&gt;\"},\"id\":\"1277\",\"type\":\"panel.models.markup.HTML\"},{\"attributes\":{\"children\":[{\"id\":\"1266\"},{\"id\":\"1267\"}],\"margin\":[0,0,0,0],\"name\":\"Column02106\"},\"id\":\"1265\",\"type\":\"Column\"},{\"attributes\":{\"children\":[{\"id\":\"1275\"},{\"id\":\"1276\"}],\"margin\":[0,0,0,0],\"name\":\"Column02118\"},\"id\":\"1274\",\"type\":\"Column\"},{\"attributes\":{\"margin\":[0,0,0,0],\"name\":\"Column02110\"},\"id\":\"1266\",\"type\":\"Column\"},{\"attributes\":{\"margin\":[5,5,5,5],\"name\":\"Str02113\",\"text\":\"&lt;pre&gt;peaceful groupies&lt;/pre&gt;\"},\"id\":\"1273\",\"type\":\"panel.models.markup.HTML\"},{\"attributes\":{\"children\":[{\"id\":\"1273\"}],\"margin\":[0,0,0,0],\"name\":\"Row02115\"},\"id\":\"1272\",\"type\":\"Row\"}],\"root_ids\":[\"1264\",\"1278\"]},\"title\":\"Bokeh Application\",\"version\":\"2.3.2\"}};\n",
       "    var render_items = [{\"docid\":\"5823a061-b1ae-418e-b168-1569a5027ef9\",\"root_ids\":[\"1264\"],\"roots\":{\"1264\":\"93208e27-43b6-496e-85fd-4b42b73e2c3b\"}}];\n",
       "    root.Bokeh.embed.embed_items_notebook(docs_json, render_items);\n",
       "  }\n",
       "  if (root.Bokeh !== undefined && root.Bokeh.Panel !== undefined && ( root['GridStack'] !== undefined)) {\n",
       "    embed_document(root);\n",
       "  } else {\n",
       "    var attempts = 0;\n",
       "    var timer = setInterval(function(root) {\n",
       "      if (root.Bokeh !== undefined && root.Bokeh.Panel !== undefined && (root['GridStack'] !== undefined)) {\n",
       "        clearInterval(timer);\n",
       "        embed_document(root);\n",
       "      } else if (document.readyState == \"complete\") {\n",
       "        attempts++;\n",
       "        if (attempts > 200) {\n",
       "          clearInterval(timer);\n",
       "          console.log(\"Bokeh: ERROR: Unable to run BokehJS code because BokehJS library is missing\");\n",
       "        }\n",
       "      }\n",
       "    }, 25, root)\n",
       "  }\n",
       "})(window);</script>"
      ],
      "text/plain": [
       "Column\n",
       "    [0] Column\n",
       "        [0] Column()\n",
       "        [1] Row\n",
       "            [0] Str(str)\n",
       "    [1] PNG(str, height=65, sizing_mode='fixed', width=75)\n",
       "    [2] Column\n",
       "        [0] Column()\n",
       "        [1] Row\n",
       "            [0] Str(str)\n",
       "    [3] Column\n",
       "        [0] Column()\n",
       "        [1] Row\n",
       "            [0] Str(str)"
      ]
     },
     "execution_count": 70,
     "metadata": {
      "application/vnd.holoviews_exec.v0+json": {
       "id": "1264"
      }
     },
     "output_type": "execute_result"
    }
   ],
   "source": [
    "#Create a Title for the Dashboard\n",
    "dashboard_title = collection\n",
    "# dash_desc = \"Analytical Data about the San Francisco Housing Market\"\n",
    "\n",
    "# Create a tab layout for the dashboard\n",
    "\n",
    "# # Create the dashboard\n",
    "dashboard = pn.Column(dashboard_title,\n",
    "                    jpg_pane_1,\n",
    "                    collection,\n",
    "                    nft_count,\n",
    "                     )\n",
    "dashboard"
   ]
  },
  {
   "cell_type": "code",
   "execution_count": null,
   "id": "c530bca8",
   "metadata": {},
   "outputs": [],
   "source": []
  }
 ],
 "metadata": {
  "kernelspec": {
   "display_name": "Python [conda env:pyvizenv] *",
   "language": "python",
   "name": "conda-env-pyvizenv-py"
  },
  "language_info": {
   "codemirror_mode": {
    "name": "ipython",
    "version": 3
   },
   "file_extension": ".py",
   "mimetype": "text/x-python",
   "name": "python",
   "nbconvert_exporter": "python",
   "pygments_lexer": "ipython3",
   "version": "3.7.10"
  }
 },
 "nbformat": 4,
 "nbformat_minor": 5
}
