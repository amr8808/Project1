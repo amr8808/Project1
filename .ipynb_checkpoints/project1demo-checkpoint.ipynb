{
 "cells": [
  {
   "cell_type": "code",
   "execution_count": 53,
   "id": "d2e923f5",
   "metadata": {},
   "outputs": [],
   "source": [
    "import os\n",
    "import requests\n",
    "import pandas as pd\n",
    "from dotenv import load_dotenv\n",
    "import requests\n",
    "%matplotlib inline"
   ]
  },
  {
   "cell_type": "code",
   "execution_count": 54,
   "id": "f210b028",
   "metadata": {},
   "outputs": [
    {
     "data": {
      "text/plain": [
       "<Response [200]>"
      ]
     },
     "execution_count": 54,
     "metadata": {},
     "output_type": "execute_result"
    }
   ],
   "source": [
    "# connect API\n",
    "# API FOR SINGLE ASSET\n",
    "single_url = \"https://api.opensea.io/api/v1/asset/0x4f89Cd0CAE1e54D98db6a80150a824a533502EEa/7089/\"\n",
    "\n",
    "single_response = requests.request(\"GET\", single_url)\n",
    "\n",
    "single_response\n",
    "# API FOR ALL PEACEFUL GROUPIES\n",
    "# url = \"https://api.opensea.io/api/v1/assets\"\n",
    "# querystring = {\"asset_contract_address\":\"0x4f89Cd0CAE1e54D98db6a80150a824a533502EEa\",\"order_direction\":\"desc\",\"offset\":\"0\",\"limit\":\"20\"}\n",
    "# response = requests.request(\"GET\", url, params=querystring)\n",
    "# response"
   ]
  },
  {
   "cell_type": "code",
   "execution_count": 55,
   "id": "775fe922",
   "metadata": {},
   "outputs": [
    {
     "data": {
      "text/plain": [
       "{'id': 52099605,\n",
       " 'token_id': '7089',\n",
       " 'num_sales': 3,\n",
       " 'background_color': None,\n",
       " 'image_url': 'https://lh3.googleusercontent.com/UWJY6-dROlTuCkGpuYkGBFXyRdak7iFbMb5evznt30_j3ViJh4RPm3Jma-899YR7TG2B2rFHySio2JugqmiWPpybHFgEehltgMz8',\n",
       " 'image_preview_url': 'https://lh3.googleusercontent.com/UWJY6-dROlTuCkGpuYkGBFXyRdak7iFbMb5evznt30_j3ViJh4RPm3Jma-899YR7TG2B2rFHySio2JugqmiWPpybHFgEehltgMz8=s250',\n",
       " 'image_thumbnail_url': 'https://lh3.googleusercontent.com/UWJY6-dROlTuCkGpuYkGBFXyRdak7iFbMb5evznt30_j3ViJh4RPm3Jma-899YR7TG2B2rFHySio2JugqmiWPpybHFgEehltgMz8=s128',\n",
       " 'image_original_url': 'https://gateway.pinata.cloud/ipfs/QmT7c1BkQ8dQGogpJtYAM84Y575JFMerBpoGnzfpmPbxhu',\n",
       " 'animation_url': None,\n",
       " 'animation_original_url': None,\n",
       " 'name': 'Groupie #7089',\n",
       " 'description': 'A peaceful creature that will follow you on your adventures through this digital psychedelic experience!',\n",
       " 'external_link': None,\n",
       " 'asset_contract': {'address': '0x4f89cd0cae1e54d98db6a80150a824a533502eea',\n",
       "  'asset_contract_type': 'non-fungible',\n",
       "  'created_date': '2021-09-13T15:00:10.154395',\n",
       "  'name': 'Groupies',\n",
       "  'nft_version': '3.0',\n",
       "  'opensea_version': None,\n",
       "  'owner': 78696265,\n",
       "  'schema_name': 'ERC721',\n",
       "  'symbol': 'GROUPIE',\n",
       "  'total_supply': '0',\n",
       "  'description': 'PEACEFUL GROUPIES is a collection of 10000 unique and crazy characters. These peaceful creatures will follow you on your adventures through this digital psychedelic experience called the PEACEVOID.',\n",
       "  'external_link': 'http://peacevoid.world',\n",
       "  'image_url': 'https://lh3.googleusercontent.com/cG9j3L8r61_Y5VKNUE3pfHnWPWPNt1ld8Zmyyslx6VV_54-ffsRAuYCg838IhOuek9cL5bHahpgj10ugtKkomDqFOuBAhcIxemow9w=s120',\n",
       "  'default_to_fiat': False,\n",
       "  'dev_buyer_fee_basis_points': 0,\n",
       "  'dev_seller_fee_basis_points': 250,\n",
       "  'only_proxied_transfers': False,\n",
       "  'opensea_buyer_fee_basis_points': 0,\n",
       "  'opensea_seller_fee_basis_points': 250,\n",
       "  'buyer_fee_basis_points': 0,\n",
       "  'seller_fee_basis_points': 500,\n",
       "  'payout_address': '0xa4d0add0058d26916b6e449f9375e9af8f6c1eb4'},\n",
       " 'permalink': 'https://opensea.io/assets/0x4f89cd0cae1e54d98db6a80150a824a533502eea/7089',\n",
       " 'collection': {'payment_tokens': [{'id': 13689077,\n",
       "    'symbol': 'ETH',\n",
       "    'address': '0x0000000000000000000000000000000000000000',\n",
       "    'image_url': 'https://storage.opensea.io/files/6f8e2979d428180222796ff4a33ab929.svg',\n",
       "    'name': 'Ether',\n",
       "    'decimals': 18,\n",
       "    'eth_price': 1.0,\n",
       "    'usd_price': 3622.39},\n",
       "   {'id': 4645681,\n",
       "    'symbol': 'WETH',\n",
       "    'address': '0xc02aaa39b223fe8d0a0e5c4f27ead9083c756cc2',\n",
       "    'image_url': 'https://storage.opensea.io/files/accae6b6fb3888cbff27a013729c22dc.svg',\n",
       "    'name': 'Wrapped Ether',\n",
       "    'decimals': 18,\n",
       "    'eth_price': 1.0,\n",
       "    'usd_price': 3622.39}],\n",
       "  'primary_asset_contracts': [{'address': '0x4f89cd0cae1e54d98db6a80150a824a533502eea',\n",
       "    'asset_contract_type': 'non-fungible',\n",
       "    'created_date': '2021-09-13T15:00:10.154395',\n",
       "    'name': 'Groupies',\n",
       "    'nft_version': '3.0',\n",
       "    'opensea_version': None,\n",
       "    'owner': 78696265,\n",
       "    'schema_name': 'ERC721',\n",
       "    'symbol': 'GROUPIE',\n",
       "    'total_supply': '0',\n",
       "    'description': 'PEACEFUL GROUPIES is a collection of 10000 unique and crazy characters. These peaceful creatures will follow you on your adventures through this digital psychedelic experience called the PEACEVOID.',\n",
       "    'external_link': 'http://peacevoid.world',\n",
       "    'image_url': 'https://lh3.googleusercontent.com/cG9j3L8r61_Y5VKNUE3pfHnWPWPNt1ld8Zmyyslx6VV_54-ffsRAuYCg838IhOuek9cL5bHahpgj10ugtKkomDqFOuBAhcIxemow9w=s120',\n",
       "    'default_to_fiat': False,\n",
       "    'dev_buyer_fee_basis_points': 0,\n",
       "    'dev_seller_fee_basis_points': 250,\n",
       "    'only_proxied_transfers': False,\n",
       "    'opensea_buyer_fee_basis_points': 0,\n",
       "    'opensea_seller_fee_basis_points': 250,\n",
       "    'buyer_fee_basis_points': 0,\n",
       "    'seller_fee_basis_points': 500,\n",
       "    'payout_address': '0xa4d0add0058d26916b6e449f9375e9af8f6c1eb4'}],\n",
       "  'traits': {},\n",
       "  'stats': {'one_day_volume': 292.8268,\n",
       "   'one_day_change': -0.22649375664836185,\n",
       "   'one_day_sales': 184.0,\n",
       "   'one_day_average_price': 1.6769621621621622,\n",
       "   'seven_day_volume': 2822.56327314742,\n",
       "   'seven_day_change': -0.06595281671928312,\n",
       "   'seven_day_sales': 1984.0,\n",
       "   'seven_day_average_price': 1.4224426779976864,\n",
       "   'thirty_day_volume': 8389.2523119252,\n",
       "   'thirty_day_change': 0.0,\n",
       "   'thirty_day_sales': 15425.0,\n",
       "   'thirty_day_average_price': 0.5436714849202549,\n",
       "   'total_volume': 8389.25231192501,\n",
       "   'total_sales': 15431.0,\n",
       "   'total_supply': 10000.0,\n",
       "   'count': 10000.0,\n",
       "   'num_owners': 3675,\n",
       "   'average_price': 0.5437270041445287,\n",
       "   'num_reports': 19,\n",
       "   'market_cap': 14224.426779976864,\n",
       "   'floor_price': 1.418},\n",
       "  'banner_image_url': 'https://lh3.googleusercontent.com/fT_1NepzsjKK72X2JDwBsRABPKWqPaPx8iOjuzvh5YHXTWM0XY8rykWAuFhwiagoD2uz9LN2N7qzXH_q3eRWeQP0dk6pyd1Yo3RaqfI=s2500',\n",
       "  'chat_url': None,\n",
       "  'created_date': '2021-09-13T15:43:39.931588',\n",
       "  'default_to_fiat': False,\n",
       "  'description': 'PEACEFUL GROUPIES is a collection of 10000 unique and crazy characters. These peaceful creatures will follow you on your adventures through this digital psychedelic experience called the PEACEVOID.',\n",
       "  'dev_buyer_fee_basis_points': '0',\n",
       "  'dev_seller_fee_basis_points': '250',\n",
       "  'discord_url': 'https://discord.gg/sXpPCbHnTW',\n",
       "  'display_data': {'card_display_style': 'padded'},\n",
       "  'external_url': 'http://peacevoid.world',\n",
       "  'featured': False,\n",
       "  'featured_image_url': 'https://lh3.googleusercontent.com/fT_1NepzsjKK72X2JDwBsRABPKWqPaPx8iOjuzvh5YHXTWM0XY8rykWAuFhwiagoD2uz9LN2N7qzXH_q3eRWeQP0dk6pyd1Yo3RaqfI=s300',\n",
       "  'hidden': False,\n",
       "  'safelist_request_status': 'verified',\n",
       "  'image_url': 'https://lh3.googleusercontent.com/cG9j3L8r61_Y5VKNUE3pfHnWPWPNt1ld8Zmyyslx6VV_54-ffsRAuYCg838IhOuek9cL5bHahpgj10ugtKkomDqFOuBAhcIxemow9w=s120',\n",
       "  'is_subject_to_whitelist': False,\n",
       "  'large_image_url': 'https://lh3.googleusercontent.com/fT_1NepzsjKK72X2JDwBsRABPKWqPaPx8iOjuzvh5YHXTWM0XY8rykWAuFhwiagoD2uz9LN2N7qzXH_q3eRWeQP0dk6pyd1Yo3RaqfI=s300',\n",
       "  'medium_username': 'peacevoid',\n",
       "  'name': 'PEACEFUL GROUPIES',\n",
       "  'only_proxied_transfers': False,\n",
       "  'opensea_buyer_fee_basis_points': '0',\n",
       "  'opensea_seller_fee_basis_points': '250',\n",
       "  'payout_address': '0xa4d0add0058d26916b6e449f9375e9af8f6c1eb4',\n",
       "  'require_email': False,\n",
       "  'short_description': None,\n",
       "  'slug': 'peaceful-groupies',\n",
       "  'telegram_url': None,\n",
       "  'twitter_username': 'peacevoid_world',\n",
       "  'instagram_username': 'peacevoid',\n",
       "  'wiki_url': None},\n",
       " 'decimals': 0,\n",
       " 'token_metadata': 'https://gateway.pinata.cloud/ipfs/QmUZwYBbqRQP9r9MshwaMpoJRHEjK2o9a7iEtCtwdaTJNd/7089',\n",
       " 'owner': {'user': {'username': 'StagHunter'},\n",
       "  'profile_img_url': 'https://storage.googleapis.com/opensea-static/opensea-profile/25.png',\n",
       "  'address': '0xdf9092178af2cd514f587fed6f32d12fe5bcbede',\n",
       "  'config': ''},\n",
       " 'sell_orders': None,\n",
       " 'creator': {'user': {'username': 'PEACEVOID_DEPLOYER'},\n",
       "  'profile_img_url': 'https://storage.googleapis.com/opensea-static/opensea-profile/2.png',\n",
       "  'address': '0x98f42d7a7f1fbb124adb4344298f3db5413f5f8f',\n",
       "  'config': ''},\n",
       " 'traits': [{'trait_type': 'Strain',\n",
       "   'value': 'Groupie',\n",
       "   'display_type': None,\n",
       "   'max_value': None,\n",
       "   'trait_count': 9989,\n",
       "   'order': None},\n",
       "  {'trait_type': 'Head Space',\n",
       "   'value': 'Grooving',\n",
       "   'display_type': None,\n",
       "   'max_value': None,\n",
       "   'trait_count': 7182,\n",
       "   'order': None},\n",
       "  {'trait_type': 'Eyes',\n",
       "   'value': 'Billiard',\n",
       "   'display_type': None,\n",
       "   'max_value': None,\n",
       "   'trait_count': 521,\n",
       "   'order': None},\n",
       "  {'trait_type': 'Skin',\n",
       "   'value': 'Starish',\n",
       "   'display_type': None,\n",
       "   'max_value': None,\n",
       "   'trait_count': 831,\n",
       "   'order': None},\n",
       "  {'trait_type': 'Background',\n",
       "   'value': 'Yellow Sunlight',\n",
       "   'display_type': None,\n",
       "   'max_value': None,\n",
       "   'trait_count': 710,\n",
       "   'order': None},\n",
       "  {'trait_type': 'Chain',\n",
       "   'value': 'Silver Fleur',\n",
       "   'display_type': None,\n",
       "   'max_value': None,\n",
       "   'trait_count': 399,\n",
       "   'order': None},\n",
       "  {'trait_type': 'Mouth',\n",
       "   'value': 'Vamp',\n",
       "   'display_type': None,\n",
       "   'max_value': None,\n",
       "   'trait_count': 388,\n",
       "   'order': None},\n",
       "  {'trait_type': 'Clothes',\n",
       "   'value': 'Sweater Patched',\n",
       "   'display_type': None,\n",
       "   'max_value': None,\n",
       "   'trait_count': 529,\n",
       "   'order': None},\n",
       "  {'trait_type': 'Hat',\n",
       "   'value': 'Joker Purple',\n",
       "   'display_type': None,\n",
       "   'max_value': None,\n",
       "   'trait_count': 282,\n",
       "   'order': None}],\n",
       " 'last_sale': {'asset': {'token_id': '7089', 'decimals': 0},\n",
       "  'asset_bundle': None,\n",
       "  'event_type': 'successful',\n",
       "  'event_timestamp': '2021-10-06T14:22:13',\n",
       "  'auction_type': None,\n",
       "  'total_price': '1069000000000000000',\n",
       "  'payment_token': {'id': 1,\n",
       "   'symbol': 'ETH',\n",
       "   'address': '0x0000000000000000000000000000000000000000',\n",
       "   'image_url': 'https://storage.opensea.io/files/6f8e2979d428180222796ff4a33ab929.svg',\n",
       "   'name': 'Ether',\n",
       "   'decimals': 18,\n",
       "   'eth_price': '1.000000000000000',\n",
       "   'usd_price': '3628.900000000000091000'},\n",
       "  'transaction': {'block_hash': '0x8dc33361cb245af4833c488921b2f38714b794dc75f0898ec0036c902961b22b',\n",
       "   'block_number': '13365918',\n",
       "   'from_account': {'user': {'username': 'StagHunter'},\n",
       "    'profile_img_url': 'https://storage.googleapis.com/opensea-static/opensea-profile/25.png',\n",
       "    'address': '0xdf9092178af2cd514f587fed6f32d12fe5bcbede',\n",
       "    'config': ''},\n",
       "   'id': 176951055,\n",
       "   'timestamp': '2021-10-06T14:22:13',\n",
       "   'to_account': {'user': {'username': 'OpenSea-Orders'},\n",
       "    'profile_img_url': 'https://storage.googleapis.com/opensea-static/opensea-profile/22.png',\n",
       "    'address': '0x7be8076f4ea4a4ad08075c2508e481d6c946d12b',\n",
       "    'config': 'verified'},\n",
       "   'transaction_hash': '0x3f801e60cea46f8e80369bcacb5d53cd9736c83658722a2d81da2117c07f1d8c',\n",
       "   'transaction_index': '193'},\n",
       "  'created_date': '2021-10-06T14:22:43.888931',\n",
       "  'quantity': '1'},\n",
       " 'top_bid': None,\n",
       " 'listing_date': None,\n",
       " 'is_presale': False,\n",
       " 'transfer_fee_payment_token': None,\n",
       " 'transfer_fee': None,\n",
       " 'related_assets': [],\n",
       " 'orders': [{'created_date': '2021-10-09T16:15:20.327892',\n",
       "   'closing_date': '2021-10-11T16:15:19',\n",
       "   'closing_extendable': False,\n",
       "   'expiration_time': 1633968919,\n",
       "   'listing_time': 1633796020,\n",
       "   'order_hash': '0xd5b15f11f1730aca7131c5e4fc10fd7db9c54ba1f922152bcc4c0be8e3578614',\n",
       "   'metadata': {'asset': {'id': '7089',\n",
       "     'address': '0x4f89cd0cae1e54d98db6a80150a824a533502eea'},\n",
       "    'schema': 'ERC721'},\n",
       "   'exchange': '0x7be8076f4ea4a4ad08075c2508e481d6c946d12b',\n",
       "   'maker': {'user': {'username': 'Gold-Digger'},\n",
       "    'profile_img_url': 'https://storage.googleapis.com/opensea-static/opensea-profile/11.png',\n",
       "    'address': '0xdf136a355c0d84ca2cc88021646c88af55dccd64',\n",
       "    'config': ''},\n",
       "   'taker': {'user': {'username': 'NullAddress'},\n",
       "    'profile_img_url': 'https://storage.googleapis.com/opensea-static/opensea-profile/1.png',\n",
       "    'address': '0x0000000000000000000000000000000000000000',\n",
       "    'config': ''},\n",
       "   'current_price': '1034200000000000000.000000000',\n",
       "   'current_bounty': '10342000000000000',\n",
       "   'bounty_multiple': '0.01',\n",
       "   'maker_relayer_fee': '0',\n",
       "   'taker_relayer_fee': '500',\n",
       "   'maker_protocol_fee': '0',\n",
       "   'taker_protocol_fee': '0',\n",
       "   'maker_referrer_fee': '0',\n",
       "   'fee_recipient': {'user': {'username': 'OS-Wallet'},\n",
       "    'profile_img_url': 'https://storage.googleapis.com/opensea-static/opensea-profile/28.png',\n",
       "    'address': '0x5b3256965e7c3cf26e11fcaf296dfc8807c01073',\n",
       "    'config': 'verified'},\n",
       "   'fee_method': 1,\n",
       "   'side': 0,\n",
       "   'sale_kind': 0,\n",
       "   'target': '0x4f89cd0cae1e54d98db6a80150a824a533502eea',\n",
       "   'how_to_call': 0,\n",
       "   'calldata': '0x23b872dd0000000000000000000000000000000000000000000000000000000000000000000000000000000000000000df136a355c0d84ca2cc88021646c88af55dccd640000000000000000000000000000000000000000000000000000000000001bb1',\n",
       "   'replacement_pattern': '0x00000000ffffffffffffffffffffffffffffffffffffffffffffffffffffffffffffffff00000000000000000000000000000000000000000000000000000000000000000000000000000000000000000000000000000000000000000000000000000000',\n",
       "   'static_target': '0x0000000000000000000000000000000000000000',\n",
       "   'static_extradata': '0x',\n",
       "   'payment_token': '0xc02aaa39b223fe8d0a0e5c4f27ead9083c756cc2',\n",
       "   'payment_token_contract': {'id': 2,\n",
       "    'symbol': 'WETH',\n",
       "    'address': '0xc02aaa39b223fe8d0a0e5c4f27ead9083c756cc2',\n",
       "    'image_url': 'https://storage.opensea.io/files/accae6b6fb3888cbff27a013729c22dc.svg',\n",
       "    'name': 'Wrapped Ether',\n",
       "    'decimals': 18,\n",
       "    'eth_price': '1.000000000000000',\n",
       "    'usd_price': '3622.389999999999873000'},\n",
       "   'base_price': '1034200000000000000',\n",
       "   'extra': '0',\n",
       "   'quantity': '1',\n",
       "   'salt': '56058348152910198550111104766419451614663634806718261902528818075553963505130',\n",
       "   'v': 28,\n",
       "   'r': '0x688200eb7480518a93da762bc9a600e1e71989a6500ffc2cd9f1ad5484fd33ab',\n",
       "   's': '0x05ab6d4cb0defae1b2c508b91b6b0bef1221308a3dfef3b3f89f2f68aeeee879',\n",
       "   'approved_on_chain': False,\n",
       "   'cancelled': False,\n",
       "   'finalized': False,\n",
       "   'marked_invalid': False,\n",
       "   'prefixed_hash': '0xb3b21b9bf8e8fdeb7eeb1c7a6fdc933c132ac7dc3013428418fc93dbf7cc837f'},\n",
       "  {'created_date': '2021-10-09T16:09:16.338502',\n",
       "   'closing_date': '2021-10-10T00:09:12',\n",
       "   'closing_extendable': False,\n",
       "   'expiration_time': 1633824552,\n",
       "   'listing_time': 1633795653,\n",
       "   'order_hash': '0x3028113a9b2d843787c880cec27563ae42d2e19776f4a37c102d1e77ec2c1928',\n",
       "   'metadata': {'asset': {'id': '7089',\n",
       "     'address': '0x4f89cd0cae1e54d98db6a80150a824a533502eea'},\n",
       "    'schema': 'ERC721'},\n",
       "   'exchange': '0x7be8076f4ea4a4ad08075c2508e481d6c946d12b',\n",
       "   'maker': {'user': {'username': 'Etherize'},\n",
       "    'profile_img_url': 'https://storage.googleapis.com/opensea-static/opensea-profile/24.png',\n",
       "    'address': '0xc7d9008774885d44a360598fc4bcf41c47417c7f',\n",
       "    'config': ''},\n",
       "   'taker': {'user': {'username': 'NullAddress'},\n",
       "    'profile_img_url': 'https://storage.googleapis.com/opensea-static/opensea-profile/1.png',\n",
       "    'address': '0x0000000000000000000000000000000000000000',\n",
       "    'config': ''},\n",
       "   'current_price': '1150000000000000000.000000000',\n",
       "   'current_bounty': '11500000000000000',\n",
       "   'bounty_multiple': '0.01',\n",
       "   'maker_relayer_fee': '0',\n",
       "   'taker_relayer_fee': '500',\n",
       "   'maker_protocol_fee': '0',\n",
       "   'taker_protocol_fee': '0',\n",
       "   'maker_referrer_fee': '0',\n",
       "   'fee_recipient': {'user': {'username': 'OS-Wallet'},\n",
       "    'profile_img_url': 'https://storage.googleapis.com/opensea-static/opensea-profile/28.png',\n",
       "    'address': '0x5b3256965e7c3cf26e11fcaf296dfc8807c01073',\n",
       "    'config': 'verified'},\n",
       "   'fee_method': 1,\n",
       "   'side': 0,\n",
       "   'sale_kind': 0,\n",
       "   'target': '0x4f89cd0cae1e54d98db6a80150a824a533502eea',\n",
       "   'how_to_call': 0,\n",
       "   'calldata': '0x23b872dd0000000000000000000000000000000000000000000000000000000000000000000000000000000000000000c7d9008774885d44a360598fc4bcf41c47417c7f0000000000000000000000000000000000000000000000000000000000001bb1',\n",
       "   'replacement_pattern': '0x00000000ffffffffffffffffffffffffffffffffffffffffffffffffffffffffffffffff00000000000000000000000000000000000000000000000000000000000000000000000000000000000000000000000000000000000000000000000000000000',\n",
       "   'static_target': '0x0000000000000000000000000000000000000000',\n",
       "   'static_extradata': '0x',\n",
       "   'payment_token': '0xc02aaa39b223fe8d0a0e5c4f27ead9083c756cc2',\n",
       "   'payment_token_contract': {'id': 2,\n",
       "    'symbol': 'WETH',\n",
       "    'address': '0xc02aaa39b223fe8d0a0e5c4f27ead9083c756cc2',\n",
       "    'image_url': 'https://storage.opensea.io/files/accae6b6fb3888cbff27a013729c22dc.svg',\n",
       "    'name': 'Wrapped Ether',\n",
       "    'decimals': 18,\n",
       "    'eth_price': '1.000000000000000',\n",
       "    'usd_price': '3622.389999999999873000'},\n",
       "   'base_price': '1150000000000000000',\n",
       "   'extra': '0',\n",
       "   'quantity': '1',\n",
       "   'salt': '30375422454352271420518736047916082918380097377510932136331831252290787638987',\n",
       "   'v': 27,\n",
       "   'r': '0x8345f0fbffddd960ef34d9a137fb049f05986da5f79e822a5bbd1ea05b1da542',\n",
       "   's': '0x6733b5d5a14b0a7c9aa24e2ca22c69332b6aa11ddbdf8ff45cc4c144422ca21b',\n",
       "   'approved_on_chain': False,\n",
       "   'cancelled': False,\n",
       "   'finalized': False,\n",
       "   'marked_invalid': False,\n",
       "   'prefixed_hash': '0x2640956a4572d6e725ec88a972c4869b00464689be6e9e63f9c83dd8ea437020'},\n",
       "  {'created_date': '2021-10-09T10:25:41.617399',\n",
       "   'closing_date': '2021-10-09T16:25:34',\n",
       "   'closing_extendable': False,\n",
       "   'expiration_time': 1633796734,\n",
       "   'listing_time': 1633775034,\n",
       "   'order_hash': '0xe8dc300eb4ac1670abc788a6621520b9cc7ea6b118372eeb81c522355dfd0246',\n",
       "   'metadata': {'asset': {'id': '7089',\n",
       "     'address': '0x4f89cd0cae1e54d98db6a80150a824a533502eea'},\n",
       "    'schema': 'ERC721'},\n",
       "   'exchange': '0x7be8076f4ea4a4ad08075c2508e481d6c946d12b',\n",
       "   'maker': {'user': {'username': 'DinoNugget'},\n",
       "    'profile_img_url': 'https://storage.googleapis.com/opensea-static/opensea-profile/29.png',\n",
       "    'address': '0xaf9b6e7619ca6d75a22e7587a56df9848b038cb9',\n",
       "    'config': ''},\n",
       "   'taker': {'user': {'username': 'NullAddress'},\n",
       "    'profile_img_url': 'https://storage.googleapis.com/opensea-static/opensea-profile/1.png',\n",
       "    'address': '0x0000000000000000000000000000000000000000',\n",
       "    'config': ''},\n",
       "   'current_price': '1100000000000000000.000000000',\n",
       "   'current_bounty': '11000000000000000',\n",
       "   'bounty_multiple': '0.01',\n",
       "   'maker_relayer_fee': '0',\n",
       "   'taker_relayer_fee': '500',\n",
       "   'maker_protocol_fee': '0',\n",
       "   'taker_protocol_fee': '0',\n",
       "   'maker_referrer_fee': '0',\n",
       "   'fee_recipient': {'user': {'username': 'OS-Wallet'},\n",
       "    'profile_img_url': 'https://storage.googleapis.com/opensea-static/opensea-profile/28.png',\n",
       "    'address': '0x5b3256965e7c3cf26e11fcaf296dfc8807c01073',\n",
       "    'config': 'verified'},\n",
       "   'fee_method': 1,\n",
       "   'side': 0,\n",
       "   'sale_kind': 0,\n",
       "   'target': '0x4f89cd0cae1e54d98db6a80150a824a533502eea',\n",
       "   'how_to_call': 0,\n",
       "   'calldata': '0x23b872dd0000000000000000000000000000000000000000000000000000000000000000000000000000000000000000af9b6e7619ca6d75a22e7587a56df9848b038cb90000000000000000000000000000000000000000000000000000000000001bb1',\n",
       "   'replacement_pattern': '0x00000000ffffffffffffffffffffffffffffffffffffffffffffffffffffffffffffffff00000000000000000000000000000000000000000000000000000000000000000000000000000000000000000000000000000000000000000000000000000000',\n",
       "   'static_target': '0x0000000000000000000000000000000000000000',\n",
       "   'static_extradata': '0x',\n",
       "   'payment_token': '0xc02aaa39b223fe8d0a0e5c4f27ead9083c756cc2',\n",
       "   'payment_token_contract': {'id': 2,\n",
       "    'symbol': 'WETH',\n",
       "    'address': '0xc02aaa39b223fe8d0a0e5c4f27ead9083c756cc2',\n",
       "    'image_url': 'https://storage.opensea.io/files/accae6b6fb3888cbff27a013729c22dc.svg',\n",
       "    'name': 'Wrapped Ether',\n",
       "    'decimals': 18,\n",
       "    'eth_price': '1.000000000000000',\n",
       "    'usd_price': '3622.389999999999873000'},\n",
       "   'base_price': '1100000000000000000',\n",
       "   'extra': '0',\n",
       "   'quantity': '1',\n",
       "   'salt': '21475990969268799830152083942999755754401047049915900866425088468469349154656',\n",
       "   'v': 28,\n",
       "   'r': '0x0b6c7d5ca1669e5f1331bb8a45595fc05729cdaf4784ae63802823f806d02aef',\n",
       "   's': '0x1c93e2b2c7e230c6836957dc4d65daaea373cf9f52b6fc1201d0fe6d15587b75',\n",
       "   'approved_on_chain': False,\n",
       "   'cancelled': False,\n",
       "   'finalized': False,\n",
       "   'marked_invalid': False,\n",
       "   'prefixed_hash': '0x0bd62ada4b169b0112a13459c43e8a53be21de0efce0bca13aa69933ea7b8b04'}],\n",
       " 'auctions': [],\n",
       " 'supports_wyvern': True,\n",
       " 'top_ownerships': [{'owner': {'user': {'username': 'StagHunter'},\n",
       "    'profile_img_url': 'https://storage.googleapis.com/opensea-static/opensea-profile/25.png',\n",
       "    'address': '0xdf9092178af2cd514f587fed6f32d12fe5bcbede',\n",
       "    'config': ''},\n",
       "   'quantity': '1'}],\n",
       " 'ownership': None,\n",
       " 'highest_buyer_commitment': None}"
      ]
     },
     "execution_count": 55,
     "metadata": {},
     "output_type": "execute_result"
    }
   ],
   "source": [
    "single_data_json = requests.get(single_url).json()\n",
    "single_data_json\n",
    "\n",
    "# PULL ENTIRE COLLECTION INTO JSON\n",
    "# response_data_json = requests.get(url).json() #adds indentation to make it more readable\n",
    "# response_data_json"
   ]
  },
  {
   "cell_type": "code",
   "execution_count": 45,
   "id": "e0e6beee",
   "metadata": {},
   "outputs": [
    {
     "data": {
      "text/plain": [
       "'7089'"
      ]
     },
     "execution_count": 45,
     "metadata": {},
     "output_type": "execute_result"
    }
   ],
   "source": [
    "token_id = single_data_json['token_id']\n",
    "token_id"
   ]
  },
  {
   "cell_type": "code",
   "execution_count": 46,
   "id": "dbf8e72e-26a9-4bed-aa2e-c1702d95e580",
   "metadata": {},
   "outputs": [],
   "source": [
    "def token_id(token_id):\n",
    "    token_id = single_data_json['token_id']\n",
    "    return token_id"
   ]
  },
  {
   "cell_type": "code",
   "execution_count": 47,
   "id": "ad14a226-5a85-4a0a-a42d-74c2cbcb116a",
   "metadata": {},
   "outputs": [
    {
     "data": {
      "text/plain": [
       "'Groupie #7089'"
      ]
     },
     "execution_count": 47,
     "metadata": {},
     "output_type": "execute_result"
    }
   ],
   "source": [
    "name = single_data_json['name']\n",
    "name"
   ]
  },
  {
   "cell_type": "code",
   "execution_count": 48,
   "id": "f04e6238-9ae5-4100-937f-1c52881a2a25",
   "metadata": {},
   "outputs": [
    {
     "data": {
      "text/plain": [
       "'A peaceful creature that will follow you on your adventures through this digital psychedelic experience!'"
      ]
     },
     "execution_count": 48,
     "metadata": {},
     "output_type": "execute_result"
    }
   ],
   "source": [
    "asset_des = single_data_json['description']\n",
    "asset_des"
   ]
  },
  {
   "cell_type": "code",
   "execution_count": 49,
   "id": "e313ce4d-5907-4522-bca1-5fee0f836c3b",
   "metadata": {},
   "outputs": [
    {
     "data": {
      "text/plain": [
       "'PEACEFUL GROUPIES is a collection of 10000 unique and crazy characters. These peaceful creatures will follow you on your adventures through this digital psychedelic experience called the PEACEVOID.'"
      ]
     },
     "execution_count": 49,
     "metadata": {},
     "output_type": "execute_result"
    }
   ],
   "source": [
    "project_des = single_data_json['asset_contract']['description']\n",
    "project_des"
   ]
  },
  {
   "cell_type": "code",
   "execution_count": 50,
   "id": "6005bc4b-cecb-492c-a7eb-9f1198b9eb76",
   "metadata": {},
   "outputs": [
    {
     "data": {
      "text/plain": [
       "'https://lh3.googleusercontent.com/UWJY6-dROlTuCkGpuYkGBFXyRdak7iFbMb5evznt30_j3ViJh4RPm3Jma-899YR7TG2B2rFHySio2JugqmiWPpybHFgEehltgMz8=s128'"
      ]
     },
     "execution_count": 50,
     "metadata": {},
     "output_type": "execute_result"
    }
   ],
   "source": [
    "asset_image = single_data_json['image_thumbnail_url']\n",
    "asset_image"
   ]
  },
  {
   "cell_type": "code",
   "execution_count": 51,
   "id": "956d6ff3-bb18-438d-bb39-ade2554e6be1",
   "metadata": {},
   "outputs": [],
   "source": [
    "collection_website = single_data_json['external_link']\n",
    "collection_website"
   ]
  },
  {
   "cell_type": "code",
   "execution_count": 52,
   "id": "499b73ce-12cf-44b0-8dce-62c6d941bc48",
   "metadata": {},
   "outputs": [
    {
     "data": {
      "text/plain": [
       "[{'id': 13689077,\n",
       "  'symbol': 'ETH',\n",
       "  'address': '0x0000000000000000000000000000000000000000',\n",
       "  'image_url': 'https://storage.opensea.io/files/6f8e2979d428180222796ff4a33ab929.svg',\n",
       "  'name': 'Ether',\n",
       "  'decimals': 18,\n",
       "  'eth_price': 1.0,\n",
       "  'usd_price': 3622.39},\n",
       " {'id': 4645681,\n",
       "  'symbol': 'WETH',\n",
       "  'address': '0xc02aaa39b223fe8d0a0e5c4f27ead9083c756cc2',\n",
       "  'image_url': 'https://storage.opensea.io/files/accae6b6fb3888cbff27a013729c22dc.svg',\n",
       "  'name': 'Wrapped Ether',\n",
       "  'decimals': 18,\n",
       "  'eth_price': 1.0,\n",
       "  'usd_price': 3622.39}]"
      ]
     },
     "execution_count": 52,
     "metadata": {},
     "output_type": "execute_result"
    }
   ],
   "source": [
    "currency_data = single_data_json['collection']['payment_tokens']\n",
    "currency_data"
   ]
  },
  {
   "cell_type": "code",
   "execution_count": 56,
   "id": "d7133fbb-9cfd-45bd-afc7-b29142580668",
   "metadata": {},
   "outputs": [
    {
     "data": {
      "text/plain": [
       "['ETH', 'WETH']"
      ]
     },
     "execution_count": 56,
     "metadata": {},
     "output_type": "execute_result"
    }
   ],
   "source": [
    "currencies = [x['symbol'] for x in base_currency]\n",
    "currencies"
   ]
  },
  {
   "cell_type": "code",
   "execution_count": 60,
   "id": "facfddc0-4d93-4925-9ac2-22f959147314",
   "metadata": {},
   "outputs": [
    {
     "data": {
      "text/plain": [
       "1.418"
      ]
     },
     "execution_count": 60,
     "metadata": {},
     "output_type": "execute_result"
    }
   ],
   "source": [
    "floor_price = single_data_json['collection']['stats']['floor_price']\n",
    "floor_price"
   ]
  },
  {
   "cell_type": "code",
   "execution_count": 94,
   "id": "66214be0-c8d1-4156-8d39-efa27ba5f87a",
   "metadata": {},
   "outputs": [
    {
     "data": {
      "text/plain": [
       "10000"
      ]
     },
     "execution_count": 94,
     "metadata": {},
     "output_type": "execute_result"
    }
   ],
   "source": [
    "total_supply = single_data_json['collection']['stats']['total_supply']\n",
    "int(total_supply)"
   ]
  },
  {
   "cell_type": "code",
   "execution_count": 66,
   "id": "cc72dceb-a61e-48b8-be7f-0d9e16eab1d2",
   "metadata": {},
   "outputs": [
    {
     "data": {
      "text/plain": [
       "dict_keys(['id', 'token_id', 'num_sales', 'background_color', 'image_url', 'image_preview_url', 'image_thumbnail_url', 'image_original_url', 'animation_url', 'animation_original_url', 'name', 'description', 'external_link', 'asset_contract', 'permalink', 'collection', 'decimals', 'token_metadata', 'owner', 'sell_orders', 'creator', 'traits', 'last_sale', 'top_bid', 'listing_date', 'is_presale', 'transfer_fee_payment_token', 'transfer_fee', 'related_assets', 'orders', 'auctions', 'supports_wyvern', 'top_ownerships', 'ownership', 'highest_buyer_commitment'])"
      ]
     },
     "execution_count": 66,
     "metadata": {},
     "output_type": "execute_result"
    }
   ],
   "source": [
    "single_data_json.keys()"
   ]
  },
  {
   "cell_type": "code",
   "execution_count": 79,
   "id": "8eb0887a-b2e0-4f9d-9347-101adb152e71",
   "metadata": {},
   "outputs": [
    {
     "data": {
      "text/plain": [
       "[]"
      ]
     },
     "execution_count": 79,
     "metadata": {},
     "output_type": "execute_result"
    }
   ],
   "source": [
    "# trait_types = [x['trait_type'] for x in traits]\n",
    "# trait_types"
   ]
  },
  {
   "cell_type": "code",
   "execution_count": 81,
   "id": "d204cca6-de4f-4989-b1ad-42d61044baab",
   "metadata": {},
   "outputs": [
    {
     "data": {
      "text/plain": [
       "'Strain'"
      ]
     },
     "execution_count": 81,
     "metadata": {},
     "output_type": "execute_result"
    }
   ],
   "source": [
    "single_data_json['traits'][0]['trait_type']"
   ]
  },
  {
   "cell_type": "code",
   "execution_count": 90,
   "id": "516272c6-1ef9-4e11-b35e-3650f548c7e9",
   "metadata": {},
   "outputs": [
    {
     "data": {
      "text/plain": [
       "['Strain',\n",
       " 'Head Space',\n",
       " 'Eyes',\n",
       " 'Skin',\n",
       " 'Background',\n",
       " 'Chain',\n",
       " 'Mouth',\n",
       " 'Clothes',\n",
       " 'Hat']"
      ]
     },
     "execution_count": 90,
     "metadata": {},
     "output_type": "execute_result"
    }
   ],
   "source": [
    "traits_test = [x['trait_type'] for x in single_data_json['traits']]\n",
    "traits_test"
   ]
  },
  {
   "cell_type": "code",
   "execution_count": 88,
   "id": "24e08119-d144-4f8d-96be-d02bb2dd172a",
   "metadata": {},
   "outputs": [
    {
     "data": {
      "text/plain": [
       "['Strain',\n",
       " 'Head Space',\n",
       " 'Eyes',\n",
       " 'Skin',\n",
       " 'Background',\n",
       " 'Chain',\n",
       " 'Mouth',\n",
       " 'Clothes',\n",
       " 'Hat']"
      ]
     },
     "execution_count": 88,
     "metadata": {},
     "output_type": "execute_result"
    }
   ],
   "source": [
    "traits = []\n",
    "for i in range(0,len(single_data_json['traits'])):\n",
    "    traits.append(single_data_json['traits'][i]['trait_type'])\n",
    "\n",
    "traits"
   ]
  },
  {
   "cell_type": "code",
   "execution_count": null,
   "id": "8f0d3e14-0e73-4ddc-87be-797b63962ee1",
   "metadata": {},
   "outputs": [],
   "source": []
  }
 ],
 "metadata": {
  "kernelspec": {
   "display_name": "Python 3 (ipykernel)",
   "language": "python",
   "name": "python3"
  },
  "language_info": {
   "codemirror_mode": {
    "name": "ipython",
    "version": 3
   },
   "file_extension": ".py",
   "mimetype": "text/x-python",
   "name": "python",
   "nbconvert_exporter": "python",
   "pygments_lexer": "ipython3",
   "version": "3.8.8"
  }
 },
 "nbformat": 4,
 "nbformat_minor": 5
}
